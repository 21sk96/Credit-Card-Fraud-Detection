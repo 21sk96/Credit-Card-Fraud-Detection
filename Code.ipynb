{
 "cells": [
  {
   "cell_type": "code",
   "execution_count": 1,
   "id": "01fd1f74",
   "metadata": {},
   "outputs": [
    {
     "name": "stdout",
     "output_type": "stream",
     "text": [
      "Requirement already satisfied: proplot in c:\\users\\khan1\\anaconda3\\lib\\site-packages (0.9.5)\n",
      "Requirement already satisfied: matplotlib in c:\\users\\khan1\\anaconda3\\lib\\site-packages (from proplot) (3.4.3)\n",
      "Requirement already satisfied: python-dateutil>=2.7 in c:\\users\\khan1\\anaconda3\\lib\\site-packages (from matplotlib->proplot) (2.8.2)\n",
      "Requirement already satisfied: pillow>=6.2.0 in c:\\users\\khan1\\anaconda3\\lib\\site-packages (from matplotlib->proplot) (8.4.0)\n",
      "Requirement already satisfied: kiwisolver>=1.0.1 in c:\\users\\khan1\\anaconda3\\lib\\site-packages (from matplotlib->proplot) (1.3.1)\n",
      "Requirement already satisfied: pyparsing>=2.2.1 in c:\\users\\khan1\\anaconda3\\lib\\site-packages (from matplotlib->proplot) (3.0.4)\n",
      "Requirement already satisfied: cycler>=0.10 in c:\\users\\khan1\\anaconda3\\lib\\site-packages (from matplotlib->proplot) (0.10.0)\n",
      "Requirement already satisfied: numpy>=1.16 in c:\\users\\khan1\\anaconda3\\lib\\site-packages (from matplotlib->proplot) (1.20.3)\n",
      "Requirement already satisfied: six in c:\\users\\khan1\\anaconda3\\lib\\site-packages (from cycler>=0.10->matplotlib->proplot) (1.16.0)\n"
     ]
    },
    {
     "name": "stderr",
     "output_type": "stream",
     "text": [
      "WARNING: You are using pip version 22.0.3; however, version 22.1.1 is available.\n",
      "You should consider upgrading via the 'C:\\Users\\khan1\\anaconda3\\python.exe -m pip install --upgrade pip' command.\n"
     ]
    }
   ],
   "source": [
    "!pip install proplot\n",
    "import warnings\n",
    "warnings.filterwarnings('ignore') "
   ]
  },
  {
   "cell_type": "code",
   "execution_count": 2,
   "id": "891ce1a0",
   "metadata": {},
   "outputs": [],
   "source": [
    "import pandas as pd\n",
    "import numpy as np\n",
    "\n",
    "import matplotlib.pyplot as plt\n"
   ]
  },
  {
   "cell_type": "code",
   "execution_count": 3,
   "id": "42f15942",
   "metadata": {},
   "outputs": [],
   "source": [
    "cc_data= pd.read_csv('C:/Users/khan1/OneDrive/Documents/867/project/creditcard.csv')"
   ]
  },
  {
   "cell_type": "code",
   "execution_count": 4,
   "id": "7fecbe26",
   "metadata": {},
   "outputs": [
    {
     "data": {
      "text/html": [
       "<div>\n",
       "<style scoped>\n",
       "    .dataframe tbody tr th:only-of-type {\n",
       "        vertical-align: middle;\n",
       "    }\n",
       "\n",
       "    .dataframe tbody tr th {\n",
       "        vertical-align: top;\n",
       "    }\n",
       "\n",
       "    .dataframe thead th {\n",
       "        text-align: right;\n",
       "    }\n",
       "</style>\n",
       "<table border=\"1\" class=\"dataframe\">\n",
       "  <thead>\n",
       "    <tr style=\"text-align: right;\">\n",
       "      <th></th>\n",
       "      <th>Time</th>\n",
       "      <th>V1</th>\n",
       "      <th>V2</th>\n",
       "      <th>V3</th>\n",
       "      <th>V4</th>\n",
       "      <th>V5</th>\n",
       "      <th>V6</th>\n",
       "      <th>V7</th>\n",
       "      <th>V8</th>\n",
       "      <th>V9</th>\n",
       "      <th>...</th>\n",
       "      <th>V21</th>\n",
       "      <th>V22</th>\n",
       "      <th>V23</th>\n",
       "      <th>V24</th>\n",
       "      <th>V25</th>\n",
       "      <th>V26</th>\n",
       "      <th>V27</th>\n",
       "      <th>V28</th>\n",
       "      <th>Amount</th>\n",
       "      <th>Class</th>\n",
       "    </tr>\n",
       "  </thead>\n",
       "  <tbody>\n",
       "    <tr>\n",
       "      <th>0</th>\n",
       "      <td>0.0</td>\n",
       "      <td>-1.359807</td>\n",
       "      <td>-0.072781</td>\n",
       "      <td>2.536347</td>\n",
       "      <td>1.378155</td>\n",
       "      <td>-0.338321</td>\n",
       "      <td>0.462388</td>\n",
       "      <td>0.239599</td>\n",
       "      <td>0.098698</td>\n",
       "      <td>0.363787</td>\n",
       "      <td>...</td>\n",
       "      <td>-0.018307</td>\n",
       "      <td>0.277838</td>\n",
       "      <td>-0.110474</td>\n",
       "      <td>0.066928</td>\n",
       "      <td>0.128539</td>\n",
       "      <td>-0.189115</td>\n",
       "      <td>0.133558</td>\n",
       "      <td>-0.021053</td>\n",
       "      <td>149.62</td>\n",
       "      <td>0</td>\n",
       "    </tr>\n",
       "    <tr>\n",
       "      <th>1</th>\n",
       "      <td>0.0</td>\n",
       "      <td>1.191857</td>\n",
       "      <td>0.266151</td>\n",
       "      <td>0.166480</td>\n",
       "      <td>0.448154</td>\n",
       "      <td>0.060018</td>\n",
       "      <td>-0.082361</td>\n",
       "      <td>-0.078803</td>\n",
       "      <td>0.085102</td>\n",
       "      <td>-0.255425</td>\n",
       "      <td>...</td>\n",
       "      <td>-0.225775</td>\n",
       "      <td>-0.638672</td>\n",
       "      <td>0.101288</td>\n",
       "      <td>-0.339846</td>\n",
       "      <td>0.167170</td>\n",
       "      <td>0.125895</td>\n",
       "      <td>-0.008983</td>\n",
       "      <td>0.014724</td>\n",
       "      <td>2.69</td>\n",
       "      <td>0</td>\n",
       "    </tr>\n",
       "    <tr>\n",
       "      <th>2</th>\n",
       "      <td>1.0</td>\n",
       "      <td>-1.358354</td>\n",
       "      <td>-1.340163</td>\n",
       "      <td>1.773209</td>\n",
       "      <td>0.379780</td>\n",
       "      <td>-0.503198</td>\n",
       "      <td>1.800499</td>\n",
       "      <td>0.791461</td>\n",
       "      <td>0.247676</td>\n",
       "      <td>-1.514654</td>\n",
       "      <td>...</td>\n",
       "      <td>0.247998</td>\n",
       "      <td>0.771679</td>\n",
       "      <td>0.909412</td>\n",
       "      <td>-0.689281</td>\n",
       "      <td>-0.327642</td>\n",
       "      <td>-0.139097</td>\n",
       "      <td>-0.055353</td>\n",
       "      <td>-0.059752</td>\n",
       "      <td>378.66</td>\n",
       "      <td>0</td>\n",
       "    </tr>\n",
       "    <tr>\n",
       "      <th>3</th>\n",
       "      <td>1.0</td>\n",
       "      <td>-0.966272</td>\n",
       "      <td>-0.185226</td>\n",
       "      <td>1.792993</td>\n",
       "      <td>-0.863291</td>\n",
       "      <td>-0.010309</td>\n",
       "      <td>1.247203</td>\n",
       "      <td>0.237609</td>\n",
       "      <td>0.377436</td>\n",
       "      <td>-1.387024</td>\n",
       "      <td>...</td>\n",
       "      <td>-0.108300</td>\n",
       "      <td>0.005274</td>\n",
       "      <td>-0.190321</td>\n",
       "      <td>-1.175575</td>\n",
       "      <td>0.647376</td>\n",
       "      <td>-0.221929</td>\n",
       "      <td>0.062723</td>\n",
       "      <td>0.061458</td>\n",
       "      <td>123.50</td>\n",
       "      <td>0</td>\n",
       "    </tr>\n",
       "    <tr>\n",
       "      <th>4</th>\n",
       "      <td>2.0</td>\n",
       "      <td>-1.158233</td>\n",
       "      <td>0.877737</td>\n",
       "      <td>1.548718</td>\n",
       "      <td>0.403034</td>\n",
       "      <td>-0.407193</td>\n",
       "      <td>0.095921</td>\n",
       "      <td>0.592941</td>\n",
       "      <td>-0.270533</td>\n",
       "      <td>0.817739</td>\n",
       "      <td>...</td>\n",
       "      <td>-0.009431</td>\n",
       "      <td>0.798278</td>\n",
       "      <td>-0.137458</td>\n",
       "      <td>0.141267</td>\n",
       "      <td>-0.206010</td>\n",
       "      <td>0.502292</td>\n",
       "      <td>0.219422</td>\n",
       "      <td>0.215153</td>\n",
       "      <td>69.99</td>\n",
       "      <td>0</td>\n",
       "    </tr>\n",
       "  </tbody>\n",
       "</table>\n",
       "<p>5 rows × 31 columns</p>\n",
       "</div>"
      ],
      "text/plain": [
       "   Time        V1        V2        V3        V4        V5        V6        V7  \\\n",
       "0   0.0 -1.359807 -0.072781  2.536347  1.378155 -0.338321  0.462388  0.239599   \n",
       "1   0.0  1.191857  0.266151  0.166480  0.448154  0.060018 -0.082361 -0.078803   \n",
       "2   1.0 -1.358354 -1.340163  1.773209  0.379780 -0.503198  1.800499  0.791461   \n",
       "3   1.0 -0.966272 -0.185226  1.792993 -0.863291 -0.010309  1.247203  0.237609   \n",
       "4   2.0 -1.158233  0.877737  1.548718  0.403034 -0.407193  0.095921  0.592941   \n",
       "\n",
       "         V8        V9  ...       V21       V22       V23       V24       V25  \\\n",
       "0  0.098698  0.363787  ... -0.018307  0.277838 -0.110474  0.066928  0.128539   \n",
       "1  0.085102 -0.255425  ... -0.225775 -0.638672  0.101288 -0.339846  0.167170   \n",
       "2  0.247676 -1.514654  ...  0.247998  0.771679  0.909412 -0.689281 -0.327642   \n",
       "3  0.377436 -1.387024  ... -0.108300  0.005274 -0.190321 -1.175575  0.647376   \n",
       "4 -0.270533  0.817739  ... -0.009431  0.798278 -0.137458  0.141267 -0.206010   \n",
       "\n",
       "        V26       V27       V28  Amount  Class  \n",
       "0 -0.189115  0.133558 -0.021053  149.62      0  \n",
       "1  0.125895 -0.008983  0.014724    2.69      0  \n",
       "2 -0.139097 -0.055353 -0.059752  378.66      0  \n",
       "3 -0.221929  0.062723  0.061458  123.50      0  \n",
       "4  0.502292  0.219422  0.215153   69.99      0  \n",
       "\n",
       "[5 rows x 31 columns]"
      ]
     },
     "execution_count": 4,
     "metadata": {},
     "output_type": "execute_result"
    }
   ],
   "source": [
    "cc_data.head()"
   ]
  },
  {
   "cell_type": "code",
   "execution_count": 5,
   "id": "cd5ac4c8",
   "metadata": {
    "scrolled": true
   },
   "outputs": [
    {
     "data": {
      "text/html": [
       "<div>\n",
       "<style scoped>\n",
       "    .dataframe tbody tr th:only-of-type {\n",
       "        vertical-align: middle;\n",
       "    }\n",
       "\n",
       "    .dataframe tbody tr th {\n",
       "        vertical-align: top;\n",
       "    }\n",
       "\n",
       "    .dataframe thead th {\n",
       "        text-align: right;\n",
       "    }\n",
       "</style>\n",
       "<table border=\"1\" class=\"dataframe\">\n",
       "  <thead>\n",
       "    <tr style=\"text-align: right;\">\n",
       "      <th></th>\n",
       "      <th>Time</th>\n",
       "      <th>V1</th>\n",
       "      <th>V2</th>\n",
       "      <th>V3</th>\n",
       "      <th>V4</th>\n",
       "      <th>V5</th>\n",
       "      <th>V6</th>\n",
       "      <th>V7</th>\n",
       "      <th>V8</th>\n",
       "      <th>V9</th>\n",
       "      <th>...</th>\n",
       "      <th>V21</th>\n",
       "      <th>V22</th>\n",
       "      <th>V23</th>\n",
       "      <th>V24</th>\n",
       "      <th>V25</th>\n",
       "      <th>V26</th>\n",
       "      <th>V27</th>\n",
       "      <th>V28</th>\n",
       "      <th>Amount</th>\n",
       "      <th>Class</th>\n",
       "    </tr>\n",
       "  </thead>\n",
       "  <tbody>\n",
       "    <tr>\n",
       "      <th>count</th>\n",
       "      <td>284807.000000</td>\n",
       "      <td>2.848070e+05</td>\n",
       "      <td>2.848070e+05</td>\n",
       "      <td>2.848070e+05</td>\n",
       "      <td>2.848070e+05</td>\n",
       "      <td>2.848070e+05</td>\n",
       "      <td>2.848070e+05</td>\n",
       "      <td>2.848070e+05</td>\n",
       "      <td>2.848070e+05</td>\n",
       "      <td>2.848070e+05</td>\n",
       "      <td>...</td>\n",
       "      <td>2.848070e+05</td>\n",
       "      <td>2.848070e+05</td>\n",
       "      <td>2.848070e+05</td>\n",
       "      <td>2.848070e+05</td>\n",
       "      <td>2.848070e+05</td>\n",
       "      <td>2.848070e+05</td>\n",
       "      <td>2.848070e+05</td>\n",
       "      <td>2.848070e+05</td>\n",
       "      <td>284807.000000</td>\n",
       "      <td>284807.000000</td>\n",
       "    </tr>\n",
       "    <tr>\n",
       "      <th>mean</th>\n",
       "      <td>94813.859575</td>\n",
       "      <td>3.918649e-15</td>\n",
       "      <td>5.682686e-16</td>\n",
       "      <td>-8.761736e-15</td>\n",
       "      <td>2.811118e-15</td>\n",
       "      <td>-1.552103e-15</td>\n",
       "      <td>2.040130e-15</td>\n",
       "      <td>-1.698953e-15</td>\n",
       "      <td>-1.893285e-16</td>\n",
       "      <td>-3.147640e-15</td>\n",
       "      <td>...</td>\n",
       "      <td>1.473120e-16</td>\n",
       "      <td>8.042109e-16</td>\n",
       "      <td>5.282512e-16</td>\n",
       "      <td>4.456271e-15</td>\n",
       "      <td>1.426896e-15</td>\n",
       "      <td>1.701640e-15</td>\n",
       "      <td>-3.662252e-16</td>\n",
       "      <td>-1.217809e-16</td>\n",
       "      <td>88.349619</td>\n",
       "      <td>0.001727</td>\n",
       "    </tr>\n",
       "    <tr>\n",
       "      <th>std</th>\n",
       "      <td>47488.145955</td>\n",
       "      <td>1.958696e+00</td>\n",
       "      <td>1.651309e+00</td>\n",
       "      <td>1.516255e+00</td>\n",
       "      <td>1.415869e+00</td>\n",
       "      <td>1.380247e+00</td>\n",
       "      <td>1.332271e+00</td>\n",
       "      <td>1.237094e+00</td>\n",
       "      <td>1.194353e+00</td>\n",
       "      <td>1.098632e+00</td>\n",
       "      <td>...</td>\n",
       "      <td>7.345240e-01</td>\n",
       "      <td>7.257016e-01</td>\n",
       "      <td>6.244603e-01</td>\n",
       "      <td>6.056471e-01</td>\n",
       "      <td>5.212781e-01</td>\n",
       "      <td>4.822270e-01</td>\n",
       "      <td>4.036325e-01</td>\n",
       "      <td>3.300833e-01</td>\n",
       "      <td>250.120109</td>\n",
       "      <td>0.041527</td>\n",
       "    </tr>\n",
       "    <tr>\n",
       "      <th>min</th>\n",
       "      <td>0.000000</td>\n",
       "      <td>-5.640751e+01</td>\n",
       "      <td>-7.271573e+01</td>\n",
       "      <td>-4.832559e+01</td>\n",
       "      <td>-5.683171e+00</td>\n",
       "      <td>-1.137433e+02</td>\n",
       "      <td>-2.616051e+01</td>\n",
       "      <td>-4.355724e+01</td>\n",
       "      <td>-7.321672e+01</td>\n",
       "      <td>-1.343407e+01</td>\n",
       "      <td>...</td>\n",
       "      <td>-3.483038e+01</td>\n",
       "      <td>-1.093314e+01</td>\n",
       "      <td>-4.480774e+01</td>\n",
       "      <td>-2.836627e+00</td>\n",
       "      <td>-1.029540e+01</td>\n",
       "      <td>-2.604551e+00</td>\n",
       "      <td>-2.256568e+01</td>\n",
       "      <td>-1.543008e+01</td>\n",
       "      <td>0.000000</td>\n",
       "      <td>0.000000</td>\n",
       "    </tr>\n",
       "    <tr>\n",
       "      <th>25%</th>\n",
       "      <td>54201.500000</td>\n",
       "      <td>-9.203734e-01</td>\n",
       "      <td>-5.985499e-01</td>\n",
       "      <td>-8.903648e-01</td>\n",
       "      <td>-8.486401e-01</td>\n",
       "      <td>-6.915971e-01</td>\n",
       "      <td>-7.682956e-01</td>\n",
       "      <td>-5.540759e-01</td>\n",
       "      <td>-2.086297e-01</td>\n",
       "      <td>-6.430976e-01</td>\n",
       "      <td>...</td>\n",
       "      <td>-2.283949e-01</td>\n",
       "      <td>-5.423504e-01</td>\n",
       "      <td>-1.618463e-01</td>\n",
       "      <td>-3.545861e-01</td>\n",
       "      <td>-3.171451e-01</td>\n",
       "      <td>-3.269839e-01</td>\n",
       "      <td>-7.083953e-02</td>\n",
       "      <td>-5.295979e-02</td>\n",
       "      <td>5.600000</td>\n",
       "      <td>0.000000</td>\n",
       "    </tr>\n",
       "    <tr>\n",
       "      <th>50%</th>\n",
       "      <td>84692.000000</td>\n",
       "      <td>1.810880e-02</td>\n",
       "      <td>6.548556e-02</td>\n",
       "      <td>1.798463e-01</td>\n",
       "      <td>-1.984653e-02</td>\n",
       "      <td>-5.433583e-02</td>\n",
       "      <td>-2.741871e-01</td>\n",
       "      <td>4.010308e-02</td>\n",
       "      <td>2.235804e-02</td>\n",
       "      <td>-5.142873e-02</td>\n",
       "      <td>...</td>\n",
       "      <td>-2.945017e-02</td>\n",
       "      <td>6.781943e-03</td>\n",
       "      <td>-1.119293e-02</td>\n",
       "      <td>4.097606e-02</td>\n",
       "      <td>1.659350e-02</td>\n",
       "      <td>-5.213911e-02</td>\n",
       "      <td>1.342146e-03</td>\n",
       "      <td>1.124383e-02</td>\n",
       "      <td>22.000000</td>\n",
       "      <td>0.000000</td>\n",
       "    </tr>\n",
       "    <tr>\n",
       "      <th>75%</th>\n",
       "      <td>139320.500000</td>\n",
       "      <td>1.315642e+00</td>\n",
       "      <td>8.037239e-01</td>\n",
       "      <td>1.027196e+00</td>\n",
       "      <td>7.433413e-01</td>\n",
       "      <td>6.119264e-01</td>\n",
       "      <td>3.985649e-01</td>\n",
       "      <td>5.704361e-01</td>\n",
       "      <td>3.273459e-01</td>\n",
       "      <td>5.971390e-01</td>\n",
       "      <td>...</td>\n",
       "      <td>1.863772e-01</td>\n",
       "      <td>5.285536e-01</td>\n",
       "      <td>1.476421e-01</td>\n",
       "      <td>4.395266e-01</td>\n",
       "      <td>3.507156e-01</td>\n",
       "      <td>2.409522e-01</td>\n",
       "      <td>9.104512e-02</td>\n",
       "      <td>7.827995e-02</td>\n",
       "      <td>77.165000</td>\n",
       "      <td>0.000000</td>\n",
       "    </tr>\n",
       "    <tr>\n",
       "      <th>max</th>\n",
       "      <td>172792.000000</td>\n",
       "      <td>2.454930e+00</td>\n",
       "      <td>2.205773e+01</td>\n",
       "      <td>9.382558e+00</td>\n",
       "      <td>1.687534e+01</td>\n",
       "      <td>3.480167e+01</td>\n",
       "      <td>7.330163e+01</td>\n",
       "      <td>1.205895e+02</td>\n",
       "      <td>2.000721e+01</td>\n",
       "      <td>1.559499e+01</td>\n",
       "      <td>...</td>\n",
       "      <td>2.720284e+01</td>\n",
       "      <td>1.050309e+01</td>\n",
       "      <td>2.252841e+01</td>\n",
       "      <td>4.584549e+00</td>\n",
       "      <td>7.519589e+00</td>\n",
       "      <td>3.517346e+00</td>\n",
       "      <td>3.161220e+01</td>\n",
       "      <td>3.384781e+01</td>\n",
       "      <td>25691.160000</td>\n",
       "      <td>1.000000</td>\n",
       "    </tr>\n",
       "  </tbody>\n",
       "</table>\n",
       "<p>8 rows × 31 columns</p>\n",
       "</div>"
      ],
      "text/plain": [
       "                Time            V1            V2            V3            V4  \\\n",
       "count  284807.000000  2.848070e+05  2.848070e+05  2.848070e+05  2.848070e+05   \n",
       "mean    94813.859575  3.918649e-15  5.682686e-16 -8.761736e-15  2.811118e-15   \n",
       "std     47488.145955  1.958696e+00  1.651309e+00  1.516255e+00  1.415869e+00   \n",
       "min         0.000000 -5.640751e+01 -7.271573e+01 -4.832559e+01 -5.683171e+00   \n",
       "25%     54201.500000 -9.203734e-01 -5.985499e-01 -8.903648e-01 -8.486401e-01   \n",
       "50%     84692.000000  1.810880e-02  6.548556e-02  1.798463e-01 -1.984653e-02   \n",
       "75%    139320.500000  1.315642e+00  8.037239e-01  1.027196e+00  7.433413e-01   \n",
       "max    172792.000000  2.454930e+00  2.205773e+01  9.382558e+00  1.687534e+01   \n",
       "\n",
       "                 V5            V6            V7            V8            V9  \\\n",
       "count  2.848070e+05  2.848070e+05  2.848070e+05  2.848070e+05  2.848070e+05   \n",
       "mean  -1.552103e-15  2.040130e-15 -1.698953e-15 -1.893285e-16 -3.147640e-15   \n",
       "std    1.380247e+00  1.332271e+00  1.237094e+00  1.194353e+00  1.098632e+00   \n",
       "min   -1.137433e+02 -2.616051e+01 -4.355724e+01 -7.321672e+01 -1.343407e+01   \n",
       "25%   -6.915971e-01 -7.682956e-01 -5.540759e-01 -2.086297e-01 -6.430976e-01   \n",
       "50%   -5.433583e-02 -2.741871e-01  4.010308e-02  2.235804e-02 -5.142873e-02   \n",
       "75%    6.119264e-01  3.985649e-01  5.704361e-01  3.273459e-01  5.971390e-01   \n",
       "max    3.480167e+01  7.330163e+01  1.205895e+02  2.000721e+01  1.559499e+01   \n",
       "\n",
       "       ...           V21           V22           V23           V24  \\\n",
       "count  ...  2.848070e+05  2.848070e+05  2.848070e+05  2.848070e+05   \n",
       "mean   ...  1.473120e-16  8.042109e-16  5.282512e-16  4.456271e-15   \n",
       "std    ...  7.345240e-01  7.257016e-01  6.244603e-01  6.056471e-01   \n",
       "min    ... -3.483038e+01 -1.093314e+01 -4.480774e+01 -2.836627e+00   \n",
       "25%    ... -2.283949e-01 -5.423504e-01 -1.618463e-01 -3.545861e-01   \n",
       "50%    ... -2.945017e-02  6.781943e-03 -1.119293e-02  4.097606e-02   \n",
       "75%    ...  1.863772e-01  5.285536e-01  1.476421e-01  4.395266e-01   \n",
       "max    ...  2.720284e+01  1.050309e+01  2.252841e+01  4.584549e+00   \n",
       "\n",
       "                V25           V26           V27           V28         Amount  \\\n",
       "count  2.848070e+05  2.848070e+05  2.848070e+05  2.848070e+05  284807.000000   \n",
       "mean   1.426896e-15  1.701640e-15 -3.662252e-16 -1.217809e-16      88.349619   \n",
       "std    5.212781e-01  4.822270e-01  4.036325e-01  3.300833e-01     250.120109   \n",
       "min   -1.029540e+01 -2.604551e+00 -2.256568e+01 -1.543008e+01       0.000000   \n",
       "25%   -3.171451e-01 -3.269839e-01 -7.083953e-02 -5.295979e-02       5.600000   \n",
       "50%    1.659350e-02 -5.213911e-02  1.342146e-03  1.124383e-02      22.000000   \n",
       "75%    3.507156e-01  2.409522e-01  9.104512e-02  7.827995e-02      77.165000   \n",
       "max    7.519589e+00  3.517346e+00  3.161220e+01  3.384781e+01   25691.160000   \n",
       "\n",
       "               Class  \n",
       "count  284807.000000  \n",
       "mean        0.001727  \n",
       "std         0.041527  \n",
       "min         0.000000  \n",
       "25%         0.000000  \n",
       "50%         0.000000  \n",
       "75%         0.000000  \n",
       "max         1.000000  \n",
       "\n",
       "[8 rows x 31 columns]"
      ]
     },
     "execution_count": 5,
     "metadata": {},
     "output_type": "execute_result"
    }
   ],
   "source": [
    "cc_data.describe()"
   ]
  },
  {
   "cell_type": "code",
   "execution_count": 6,
   "id": "1f9cdcfb",
   "metadata": {},
   "outputs": [
    {
     "data": {
      "text/plain": [
       "Time      0\n",
       "V1        0\n",
       "V2        0\n",
       "V3        0\n",
       "V4        0\n",
       "V5        0\n",
       "V6        0\n",
       "V7        0\n",
       "V8        0\n",
       "V9        0\n",
       "V10       0\n",
       "V11       0\n",
       "V12       0\n",
       "V13       0\n",
       "V14       0\n",
       "V15       0\n",
       "V16       0\n",
       "V17       0\n",
       "V18       0\n",
       "V19       0\n",
       "V20       0\n",
       "V21       0\n",
       "V22       0\n",
       "V23       0\n",
       "V24       0\n",
       "V25       0\n",
       "V26       0\n",
       "V27       0\n",
       "V28       0\n",
       "Amount    0\n",
       "Class     0\n",
       "dtype: int64"
      ]
     },
     "execution_count": 6,
     "metadata": {},
     "output_type": "execute_result"
    }
   ],
   "source": [
    "#checking for any missing value\n",
    "cc_data.isnull().sum()"
   ]
  },
  {
   "cell_type": "code",
   "execution_count": 7,
   "id": "c1209f4b",
   "metadata": {},
   "outputs": [
    {
     "data": {
      "text/plain": [
       "Time      float64\n",
       "V1        float64\n",
       "V2        float64\n",
       "V3        float64\n",
       "V4        float64\n",
       "V5        float64\n",
       "V6        float64\n",
       "V7        float64\n",
       "V8        float64\n",
       "V9        float64\n",
       "V10       float64\n",
       "V11       float64\n",
       "V12       float64\n",
       "V13       float64\n",
       "V14       float64\n",
       "V15       float64\n",
       "V16       float64\n",
       "V17       float64\n",
       "V18       float64\n",
       "V19       float64\n",
       "V20       float64\n",
       "V21       float64\n",
       "V22       float64\n",
       "V23       float64\n",
       "V24       float64\n",
       "V25       float64\n",
       "V26       float64\n",
       "V27       float64\n",
       "V28       float64\n",
       "Amount    float64\n",
       "Class       int64\n",
       "dtype: object"
      ]
     },
     "execution_count": 7,
     "metadata": {},
     "output_type": "execute_result"
    }
   ],
   "source": [
    "cc_data.dtypes"
   ]
  },
  {
   "cell_type": "code",
   "execution_count": 8,
   "id": "bb9276ec",
   "metadata": {},
   "outputs": [
    {
     "data": {
      "image/png": "[encoded data removed]",
      "text/plain": [
       "<Figure size 864x864 with 2 Axes>"
      ]
     },
     "metadata": {
      "needs_background": "light"
     },
     "output_type": "display_data"
    }
   ],
   "source": [
    "import seaborn as sns\n",
    "#checking for correlation\n",
    "f,ax = plt.subplots(figsize=(12, 12))\n",
    "mask = np.zeros_like(cc_data.corr())\n",
    "mask[np.triu_indices_from(mask)] = True\n",
    "sns.heatmap(cc_data.corr(), annot=True, linewidths=0.4,linecolor=\"white\", fmt= '.1f',ax=ax,cmap=\"Purples\",mask=mask)\n",
    "plt.title(\"Correlation of amongst different Features\",color='black', fontsize=30);\n",
    "plt.show() "
   ]
  },
  {
   "cell_type": "code",
   "execution_count": 9,
   "id": "b1d825a1",
   "metadata": {},
   "outputs": [],
   "source": [
    "def PlotHistogram(cc_data,norm):\n",
    "    bins = np.arange(cc_data['hour'].min(),cc_data['hour'].max()+2)\n",
    "    plt.figure(figsize=(15,4))\n",
    "    sns.distplot(cc_data[cc_data['Class']==0.0]['hour'],\n",
    "                 norm_hist=norm,\n",
    "                 bins=bins,\n",
    "                 kde=False,\n",
    "                 color='c',\n",
    "                 hist_kws={'alpha':.5},\n",
    "                 label='Legit')\n",
    "    sns.distplot(cc_data[cc_data['Class']==1.0]['hour'],\n",
    "                 norm_hist=norm,\n",
    "                 bins=bins,\n",
    "                 kde=False,\n",
    "                 color='r',\n",
    "                 label='Fraud',\n",
    "                 hist_kws={'alpha':.5})\n",
    "    plt.xticks(range(0,24))\n",
    "    plt.legend()\n",
    "    plt.show()"
   ]
  },
  {
   "cell_type": "code",
   "execution_count": 10,
   "id": "66af220d",
   "metadata": {},
   "outputs": [],
   "source": [
    "cc_data['hour'] = cc_data['Time'].apply(lambda x: np.ceil(float(x)/3600) % 24)"
   ]
  },
  {
   "cell_type": "code",
   "execution_count": 11,
   "id": "798892a4",
   "metadata": {},
   "outputs": [],
   "source": [
    "import time\n",
    "\n",
    "from sklearn.linear_model import LogisticRegression\n",
    "from sklearn.ensemble import GradientBoostingClassifier,RandomForestClassifier,AdaBoostClassifier\n",
    "from sklearn.neural_network import MLPClassifier\n",
    "from sklearn.preprocessing import StandardScaler\n",
    "from sklearn.model_selection import cross_val_predict,cross_val_score,train_test_split\n",
    "from sklearn.metrics import classification_report,confusion_matrix,roc_curve,auc,precision_recall_curve,roc_curve\n",
    "\n",
    "import os\n",
    "\n",
    "import matplotlib.pyplot as plt\n",
    "from mpl_toolkits.mplot3d import Axes3D\n",
    "import seaborn as sns\n",
    "%matplotlib inline"
   ]
  },
  {
   "cell_type": "code",
   "execution_count": 12,
   "id": "05cadc20",
   "metadata": {},
   "outputs": [
    {
     "name": "stdout",
     "output_type": "stream",
     "text": [
      "Normalized histogram of Legit/Fraud over hour of the day\n"
     ]
    },
    {
     "data": {
      "image/png": "[encoded data removed]",
      "text/plain": [
       "<Figure size 1080x288 with 1 Axes>"
      ]
     },
     "metadata": {
      "needs_background": "light"
     },
     "output_type": "display_data"
    },
    {
     "name": "stdout",
     "output_type": "stream",
     "text": [
      "Counts histogram of Legit/Fraud over hour of the day, Fraud not visible as percentage seems to be less\n"
     ]
    },
    {
     "data": {
      "image/png": "[encoded data removed]",
      "text/plain": [
       "<Figure size 1080x288 with 1 Axes>"
      ]
     },
     "metadata": {
      "needs_background": "light"
     },
     "output_type": "display_data"
    }
   ],
   "source": [
    "import time\n",
    "start = time.time()\n",
    "print('Normalized histogram of Legit/Fraud over hour of the day')\n",
    "PlotHistogram(cc_data,True)\n",
    "print('Counts histogram of Legit/Fraud over hour of the day, Fraud not visible as percentage seems to be less')\n",
    "PlotHistogram(cc_data,False)\n"
   ]
  },
  {
   "cell_type": "code",
   "execution_count": null,
   "id": "5a7bb119",
   "metadata": {},
   "outputs": [],
   "source": []
  },
  {
   "cell_type": "code",
   "execution_count": 13,
   "id": "d7b74fa8",
   "metadata": {},
   "outputs": [
    {
     "name": "stdout",
     "output_type": "stream",
     "text": [
      "Non-fraud transactions: 99.83%\n",
      "Fraud transactions: 0.17%\n"
     ]
    },
    {
     "data": {
      "image/png": "[encoded data removed]",
      "text/plain": [
       "<Figure size 432x288 with 1 Axes>"
      ]
     },
     "metadata": {
      "needs_background": "light"
     },
     "output_type": "display_data"
    }
   ],
   "source": [
    "#understanding the percenatage of fraud data\n",
    "sns.countplot(x='Class', data=cc_data, palette='CMRmap')\n",
    "print('Non-fraud transactions: {}%'.format(round(cc_data.Class.value_counts()[0]/len(cc_data)*100.0,2)))\n",
    "print('Fraud transactions: {}%'.format(round(cc_data.Class.value_counts()[1]/len(cc_data)*100.0,2)))"
   ]
  },
  {
   "cell_type": "code",
   "execution_count": 14,
   "id": "2012cea4",
   "metadata": {},
   "outputs": [],
   "source": [
    "#thus we conclude that data is highly imbalanced\n",
    "\n"
   ]
  },
  {
   "cell_type": "code",
   "execution_count": 15,
   "id": "e8396f76",
   "metadata": {},
   "outputs": [
    {
     "data": {
      "text/html": [
       "<div>\n",
       "<style scoped>\n",
       "    .dataframe tbody tr th:only-of-type {\n",
       "        vertical-align: middle;\n",
       "    }\n",
       "\n",
       "    .dataframe tbody tr th {\n",
       "        vertical-align: top;\n",
       "    }\n",
       "\n",
       "    .dataframe thead th {\n",
       "        text-align: right;\n",
       "    }\n",
       "</style>\n",
       "<table border=\"1\" class=\"dataframe\">\n",
       "  <thead>\n",
       "    <tr style=\"text-align: right;\">\n",
       "      <th></th>\n",
       "      <th>V1</th>\n",
       "      <th>V2</th>\n",
       "      <th>V3</th>\n",
       "      <th>V4</th>\n",
       "      <th>V5</th>\n",
       "      <th>V6</th>\n",
       "      <th>V7</th>\n",
       "      <th>V8</th>\n",
       "      <th>V9</th>\n",
       "      <th>V10</th>\n",
       "      <th>...</th>\n",
       "      <th>V23</th>\n",
       "      <th>V24</th>\n",
       "      <th>V25</th>\n",
       "      <th>V26</th>\n",
       "      <th>V27</th>\n",
       "      <th>V28</th>\n",
       "      <th>Class</th>\n",
       "      <th>hour</th>\n",
       "      <th>scaled_amount</th>\n",
       "      <th>scaled_time</th>\n",
       "    </tr>\n",
       "  </thead>\n",
       "  <tbody>\n",
       "    <tr>\n",
       "      <th>0</th>\n",
       "      <td>-1.359807</td>\n",
       "      <td>-0.072781</td>\n",
       "      <td>2.536347</td>\n",
       "      <td>1.378155</td>\n",
       "      <td>-0.338321</td>\n",
       "      <td>0.462388</td>\n",
       "      <td>0.239599</td>\n",
       "      <td>0.098698</td>\n",
       "      <td>0.363787</td>\n",
       "      <td>0.090794</td>\n",
       "      <td>...</td>\n",
       "      <td>-0.110474</td>\n",
       "      <td>0.066928</td>\n",
       "      <td>0.128539</td>\n",
       "      <td>-0.189115</td>\n",
       "      <td>0.133558</td>\n",
       "      <td>-0.021053</td>\n",
       "      <td>0</td>\n",
       "      <td>0.0</td>\n",
       "      <td>1.783274</td>\n",
       "      <td>-0.994983</td>\n",
       "    </tr>\n",
       "    <tr>\n",
       "      <th>1</th>\n",
       "      <td>1.191857</td>\n",
       "      <td>0.266151</td>\n",
       "      <td>0.166480</td>\n",
       "      <td>0.448154</td>\n",
       "      <td>0.060018</td>\n",
       "      <td>-0.082361</td>\n",
       "      <td>-0.078803</td>\n",
       "      <td>0.085102</td>\n",
       "      <td>-0.255425</td>\n",
       "      <td>-0.166974</td>\n",
       "      <td>...</td>\n",
       "      <td>0.101288</td>\n",
       "      <td>-0.339846</td>\n",
       "      <td>0.167170</td>\n",
       "      <td>0.125895</td>\n",
       "      <td>-0.008983</td>\n",
       "      <td>0.014724</td>\n",
       "      <td>0</td>\n",
       "      <td>0.0</td>\n",
       "      <td>-0.269825</td>\n",
       "      <td>-0.994983</td>\n",
       "    </tr>\n",
       "    <tr>\n",
       "      <th>2</th>\n",
       "      <td>-1.358354</td>\n",
       "      <td>-1.340163</td>\n",
       "      <td>1.773209</td>\n",
       "      <td>0.379780</td>\n",
       "      <td>-0.503198</td>\n",
       "      <td>1.800499</td>\n",
       "      <td>0.791461</td>\n",
       "      <td>0.247676</td>\n",
       "      <td>-1.514654</td>\n",
       "      <td>0.207643</td>\n",
       "      <td>...</td>\n",
       "      <td>0.909412</td>\n",
       "      <td>-0.689281</td>\n",
       "      <td>-0.327642</td>\n",
       "      <td>-0.139097</td>\n",
       "      <td>-0.055353</td>\n",
       "      <td>-0.059752</td>\n",
       "      <td>0</td>\n",
       "      <td>1.0</td>\n",
       "      <td>4.983721</td>\n",
       "      <td>-0.994972</td>\n",
       "    </tr>\n",
       "    <tr>\n",
       "      <th>3</th>\n",
       "      <td>-0.966272</td>\n",
       "      <td>-0.185226</td>\n",
       "      <td>1.792993</td>\n",
       "      <td>-0.863291</td>\n",
       "      <td>-0.010309</td>\n",
       "      <td>1.247203</td>\n",
       "      <td>0.237609</td>\n",
       "      <td>0.377436</td>\n",
       "      <td>-1.387024</td>\n",
       "      <td>-0.054952</td>\n",
       "      <td>...</td>\n",
       "      <td>-0.190321</td>\n",
       "      <td>-1.175575</td>\n",
       "      <td>0.647376</td>\n",
       "      <td>-0.221929</td>\n",
       "      <td>0.062723</td>\n",
       "      <td>0.061458</td>\n",
       "      <td>0</td>\n",
       "      <td>1.0</td>\n",
       "      <td>1.418291</td>\n",
       "      <td>-0.994972</td>\n",
       "    </tr>\n",
       "    <tr>\n",
       "      <th>4</th>\n",
       "      <td>-1.158233</td>\n",
       "      <td>0.877737</td>\n",
       "      <td>1.548718</td>\n",
       "      <td>0.403034</td>\n",
       "      <td>-0.407193</td>\n",
       "      <td>0.095921</td>\n",
       "      <td>0.592941</td>\n",
       "      <td>-0.270533</td>\n",
       "      <td>0.817739</td>\n",
       "      <td>0.753074</td>\n",
       "      <td>...</td>\n",
       "      <td>-0.137458</td>\n",
       "      <td>0.141267</td>\n",
       "      <td>-0.206010</td>\n",
       "      <td>0.502292</td>\n",
       "      <td>0.219422</td>\n",
       "      <td>0.215153</td>\n",
       "      <td>0</td>\n",
       "      <td>1.0</td>\n",
       "      <td>0.670579</td>\n",
       "      <td>-0.994960</td>\n",
       "    </tr>\n",
       "  </tbody>\n",
       "</table>\n",
       "<p>5 rows × 32 columns</p>\n",
       "</div>"
      ],
      "text/plain": [
       "         V1        V2        V3        V4        V5        V6        V7  \\\n",
       "0 -1.359807 -0.072781  2.536347  1.378155 -0.338321  0.462388  0.239599   \n",
       "1  1.191857  0.266151  0.166480  0.448154  0.060018 -0.082361 -0.078803   \n",
       "2 -1.358354 -1.340163  1.773209  0.379780 -0.503198  1.800499  0.791461   \n",
       "3 -0.966272 -0.185226  1.792993 -0.863291 -0.010309  1.247203  0.237609   \n",
       "4 -1.158233  0.877737  1.548718  0.403034 -0.407193  0.095921  0.592941   \n",
       "\n",
       "         V8        V9       V10  ...       V23       V24       V25       V26  \\\n",
       "0  0.098698  0.363787  0.090794  ... -0.110474  0.066928  0.128539 -0.189115   \n",
       "1  0.085102 -0.255425 -0.166974  ...  0.101288 -0.339846  0.167170  0.125895   \n",
       "2  0.247676 -1.514654  0.207643  ...  0.909412 -0.689281 -0.327642 -0.139097   \n",
       "3  0.377436 -1.387024 -0.054952  ... -0.190321 -1.175575  0.647376 -0.221929   \n",
       "4 -0.270533  0.817739  0.753074  ... -0.137458  0.141267 -0.206010  0.502292   \n",
       "\n",
       "        V27       V28  Class  hour  scaled_amount  scaled_time  \n",
       "0  0.133558 -0.021053      0   0.0       1.783274    -0.994983  \n",
       "1 -0.008983  0.014724      0   0.0      -0.269825    -0.994983  \n",
       "2 -0.055353 -0.059752      0   1.0       4.983721    -0.994972  \n",
       "3  0.062723  0.061458      0   1.0       1.418291    -0.994972  \n",
       "4  0.219422  0.215153      0   1.0       0.670579    -0.994960  \n",
       "\n",
       "[5 rows x 32 columns]"
      ]
     },
     "execution_count": 15,
     "metadata": {},
     "output_type": "execute_result"
    }
   ],
   "source": [
    "from sklearn.preprocessing import RobustScaler\n",
    "\n",
    "rs = RobustScaler()\n",
    "\n",
    "cc_data['scaled_amount'] = rs.fit_transform(cc_data['Amount'].values.reshape(-1, 1))\n",
    "cc_data['scaled_time'] = rs.fit_transform(cc_data['Time'].values.reshape(-1, 1))\n",
    "\n",
    "cc_data.drop(['Amount', 'Time'], axis = 1, inplace = True)\n",
    "\n",
    "cc_data.head(5)"
   ]
  },
  {
   "cell_type": "code",
   "execution_count": 16,
   "id": "e0fd5c76",
   "metadata": {},
   "outputs": [
    {
     "data": {
      "text/html": [
       "<div>\n",
       "<style scoped>\n",
       "    .dataframe tbody tr th:only-of-type {\n",
       "        vertical-align: middle;\n",
       "    }\n",
       "\n",
       "    .dataframe tbody tr th {\n",
       "        vertical-align: top;\n",
       "    }\n",
       "\n",
       "    .dataframe thead th {\n",
       "        text-align: right;\n",
       "    }\n",
       "</style>\n",
       "<table border=\"1\" class=\"dataframe\">\n",
       "  <thead>\n",
       "    <tr style=\"text-align: right;\">\n",
       "      <th></th>\n",
       "      <th>Scaled_Amount</th>\n",
       "      <th>Scaled_Time</th>\n",
       "      <th>V1</th>\n",
       "      <th>V2</th>\n",
       "      <th>V3</th>\n",
       "      <th>V4</th>\n",
       "      <th>V5</th>\n",
       "      <th>V6</th>\n",
       "      <th>V7</th>\n",
       "      <th>V8</th>\n",
       "      <th>...</th>\n",
       "      <th>V21</th>\n",
       "      <th>V22</th>\n",
       "      <th>V23</th>\n",
       "      <th>V24</th>\n",
       "      <th>V25</th>\n",
       "      <th>V26</th>\n",
       "      <th>V27</th>\n",
       "      <th>V28</th>\n",
       "      <th>Class</th>\n",
       "      <th>hour</th>\n",
       "    </tr>\n",
       "  </thead>\n",
       "  <tbody>\n",
       "    <tr>\n",
       "      <th>0</th>\n",
       "      <td>1.783274</td>\n",
       "      <td>-0.994983</td>\n",
       "      <td>-1.359807</td>\n",
       "      <td>-0.072781</td>\n",
       "      <td>2.536347</td>\n",
       "      <td>1.378155</td>\n",
       "      <td>-0.338321</td>\n",
       "      <td>0.462388</td>\n",
       "      <td>0.239599</td>\n",
       "      <td>0.098698</td>\n",
       "      <td>...</td>\n",
       "      <td>-0.018307</td>\n",
       "      <td>0.277838</td>\n",
       "      <td>-0.110474</td>\n",
       "      <td>0.066928</td>\n",
       "      <td>0.128539</td>\n",
       "      <td>-0.189115</td>\n",
       "      <td>0.133558</td>\n",
       "      <td>-0.021053</td>\n",
       "      <td>0</td>\n",
       "      <td>0.0</td>\n",
       "    </tr>\n",
       "    <tr>\n",
       "      <th>1</th>\n",
       "      <td>-0.269825</td>\n",
       "      <td>-0.994983</td>\n",
       "      <td>1.191857</td>\n",
       "      <td>0.266151</td>\n",
       "      <td>0.166480</td>\n",
       "      <td>0.448154</td>\n",
       "      <td>0.060018</td>\n",
       "      <td>-0.082361</td>\n",
       "      <td>-0.078803</td>\n",
       "      <td>0.085102</td>\n",
       "      <td>...</td>\n",
       "      <td>-0.225775</td>\n",
       "      <td>-0.638672</td>\n",
       "      <td>0.101288</td>\n",
       "      <td>-0.339846</td>\n",
       "      <td>0.167170</td>\n",
       "      <td>0.125895</td>\n",
       "      <td>-0.008983</td>\n",
       "      <td>0.014724</td>\n",
       "      <td>0</td>\n",
       "      <td>0.0</td>\n",
       "    </tr>\n",
       "    <tr>\n",
       "      <th>2</th>\n",
       "      <td>4.983721</td>\n",
       "      <td>-0.994972</td>\n",
       "      <td>-1.358354</td>\n",
       "      <td>-1.340163</td>\n",
       "      <td>1.773209</td>\n",
       "      <td>0.379780</td>\n",
       "      <td>-0.503198</td>\n",
       "      <td>1.800499</td>\n",
       "      <td>0.791461</td>\n",
       "      <td>0.247676</td>\n",
       "      <td>...</td>\n",
       "      <td>0.247998</td>\n",
       "      <td>0.771679</td>\n",
       "      <td>0.909412</td>\n",
       "      <td>-0.689281</td>\n",
       "      <td>-0.327642</td>\n",
       "      <td>-0.139097</td>\n",
       "      <td>-0.055353</td>\n",
       "      <td>-0.059752</td>\n",
       "      <td>0</td>\n",
       "      <td>1.0</td>\n",
       "    </tr>\n",
       "    <tr>\n",
       "      <th>3</th>\n",
       "      <td>1.418291</td>\n",
       "      <td>-0.994972</td>\n",
       "      <td>-0.966272</td>\n",
       "      <td>-0.185226</td>\n",
       "      <td>1.792993</td>\n",
       "      <td>-0.863291</td>\n",
       "      <td>-0.010309</td>\n",
       "      <td>1.247203</td>\n",
       "      <td>0.237609</td>\n",
       "      <td>0.377436</td>\n",
       "      <td>...</td>\n",
       "      <td>-0.108300</td>\n",
       "      <td>0.005274</td>\n",
       "      <td>-0.190321</td>\n",
       "      <td>-1.175575</td>\n",
       "      <td>0.647376</td>\n",
       "      <td>-0.221929</td>\n",
       "      <td>0.062723</td>\n",
       "      <td>0.061458</td>\n",
       "      <td>0</td>\n",
       "      <td>1.0</td>\n",
       "    </tr>\n",
       "    <tr>\n",
       "      <th>4</th>\n",
       "      <td>0.670579</td>\n",
       "      <td>-0.994960</td>\n",
       "      <td>-1.158233</td>\n",
       "      <td>0.877737</td>\n",
       "      <td>1.548718</td>\n",
       "      <td>0.403034</td>\n",
       "      <td>-0.407193</td>\n",
       "      <td>0.095921</td>\n",
       "      <td>0.592941</td>\n",
       "      <td>-0.270533</td>\n",
       "      <td>...</td>\n",
       "      <td>-0.009431</td>\n",
       "      <td>0.798278</td>\n",
       "      <td>-0.137458</td>\n",
       "      <td>0.141267</td>\n",
       "      <td>-0.206010</td>\n",
       "      <td>0.502292</td>\n",
       "      <td>0.219422</td>\n",
       "      <td>0.215153</td>\n",
       "      <td>0</td>\n",
       "      <td>1.0</td>\n",
       "    </tr>\n",
       "  </tbody>\n",
       "</table>\n",
       "<p>5 rows × 32 columns</p>\n",
       "</div>"
      ],
      "text/plain": [
       "   Scaled_Amount  Scaled_Time        V1        V2        V3        V4  \\\n",
       "0       1.783274    -0.994983 -1.359807 -0.072781  2.536347  1.378155   \n",
       "1      -0.269825    -0.994983  1.191857  0.266151  0.166480  0.448154   \n",
       "2       4.983721    -0.994972 -1.358354 -1.340163  1.773209  0.379780   \n",
       "3       1.418291    -0.994972 -0.966272 -0.185226  1.792993 -0.863291   \n",
       "4       0.670579    -0.994960 -1.158233  0.877737  1.548718  0.403034   \n",
       "\n",
       "         V5        V6        V7        V8  ...       V21       V22       V23  \\\n",
       "0 -0.338321  0.462388  0.239599  0.098698  ... -0.018307  0.277838 -0.110474   \n",
       "1  0.060018 -0.082361 -0.078803  0.085102  ... -0.225775 -0.638672  0.101288   \n",
       "2 -0.503198  1.800499  0.791461  0.247676  ...  0.247998  0.771679  0.909412   \n",
       "3 -0.010309  1.247203  0.237609  0.377436  ... -0.108300  0.005274 -0.190321   \n",
       "4 -0.407193  0.095921  0.592941 -0.270533  ... -0.009431  0.798278 -0.137458   \n",
       "\n",
       "        V24       V25       V26       V27       V28  Class  hour  \n",
       "0  0.066928  0.128539 -0.189115  0.133558 -0.021053      0   0.0  \n",
       "1 -0.339846  0.167170  0.125895 -0.008983  0.014724      0   0.0  \n",
       "2 -0.689281 -0.327642 -0.139097 -0.055353 -0.059752      0   1.0  \n",
       "3 -1.175575  0.647376 -0.221929  0.062723  0.061458      0   1.0  \n",
       "4  0.141267 -0.206010  0.502292  0.219422  0.215153      0   1.0  \n",
       "\n",
       "[5 rows x 32 columns]"
      ]
     },
     "execution_count": 16,
     "metadata": {},
     "output_type": "execute_result"
    }
   ],
   "source": [
    "scaled_amount = cc_data['scaled_amount']\n",
    "scaled_time = cc_data['scaled_time']\n",
    "\n",
    "cc_data.drop(['scaled_amount', 'scaled_time'], axis = 1, inplace = True)\n",
    "\n",
    "cc_data.insert(0,'Scaled_Amount', scaled_amount)\n",
    "cc_data.insert(1, 'Scaled_Time', scaled_time)\n",
    "\n",
    "cc_data.head(5)"
   ]
  },
  {
   "cell_type": "code",
   "execution_count": 17,
   "id": "f4f8e91a",
   "metadata": {},
   "outputs": [],
   "source": [
    "#Defining logistic regression model\n",
    "#defining logistic regression model\n",
    "X = cc_data.drop('Class',axis='columns')\n",
    "y = testLabels = cc_data.Class.astype(np.float32)\n",
    "\n",
    "from sklearn.model_selection import train_test_split\n",
    "X_train, X_test, y_train, y_test = train_test_split(X, y, test_size=0.2, random_state=15, stratify=y)"
   ]
  },
  {
   "cell_type": "code",
   "execution_count": 18,
   "id": "87bb4aad",
   "metadata": {},
   "outputs": [
    {
     "data": {
      "text/plain": [
       "LogisticRegression(max_iter=10000)"
      ]
     },
     "execution_count": 18,
     "metadata": {},
     "output_type": "execute_result"
    }
   ],
   "source": [
    "from sklearn.linear_model import LogisticRegression\n",
    "lr = LogisticRegression( max_iter=10000)\n",
    "lr.fit(X_train, y_train.values.ravel())"
   ]
  },
  {
   "cell_type": "code",
   "execution_count": 19,
   "id": "b55c34df",
   "metadata": {},
   "outputs": [
    {
     "name": "stdout",
     "output_type": "stream",
     "text": [
      "Requirement already satisfied: scikit-plot in c:\\users\\khan1\\anaconda3\\lib\\site-packages (0.3.7)\n",
      "Requirement already satisfied: matplotlib>=1.4.0 in c:\\users\\khan1\\anaconda3\\lib\\site-packages (from scikit-plot) (3.4.3)\n",
      "Requirement already satisfied: joblib>=0.10 in c:\\users\\khan1\\anaconda3\\lib\\site-packages (from scikit-plot) (1.1.0)\n",
      "Requirement already satisfied: scipy>=0.9 in c:\\users\\khan1\\anaconda3\\lib\\site-packages (from scikit-plot) (1.7.1)\n",
      "Requirement already satisfied: scikit-learn>=0.18 in c:\\users\\khan1\\anaconda3\\lib\\site-packages (from scikit-plot) (1.0.2)\n",
      "Requirement already satisfied: cycler>=0.10 in c:\\users\\khan1\\anaconda3\\lib\\site-packages (from matplotlib>=1.4.0->scikit-plot) (0.10.0)\n",
      "Requirement already satisfied: pillow>=6.2.0 in c:\\users\\khan1\\anaconda3\\lib\\site-packages (from matplotlib>=1.4.0->scikit-plot) (8.4.0)\n",
      "Requirement already satisfied: python-dateutil>=2.7 in c:\\users\\khan1\\anaconda3\\lib\\site-packages (from matplotlib>=1.4.0->scikit-plot) (2.8.2)\n",
      "Requirement already satisfied: numpy>=1.16 in c:\\users\\khan1\\anaconda3\\lib\\site-packages (from matplotlib>=1.4.0->scikit-plot) (1.20.3)\n",
      "Requirement already satisfied: kiwisolver>=1.0.1 in c:\\users\\khan1\\anaconda3\\lib\\site-packages (from matplotlib>=1.4.0->scikit-plot) (1.3.1)\n",
      "Requirement already satisfied: pyparsing>=2.2.1 in c:\\users\\khan1\\anaconda3\\lib\\site-packages (from matplotlib>=1.4.0->scikit-plot) (3.0.4)\n",
      "Requirement already satisfied: six in c:\\users\\khan1\\anaconda3\\lib\\site-packages (from cycler>=0.10->matplotlib>=1.4.0->scikit-plot) (1.16.0)\n",
      "Requirement already satisfied: threadpoolctl>=2.0.0 in c:\\users\\khan1\\anaconda3\\lib\\site-packages (from scikit-learn>=0.18->scikit-plot) (2.2.0)\n",
      "Note: you may need to restart the kernel to use updated packages.\n"
     ]
    },
    {
     "name": "stderr",
     "output_type": "stream",
     "text": [
      "WARNING: You are using pip version 22.0.3; however, version 22.1.1 is available.\n",
      "You should consider upgrading via the 'C:\\Users\\khan1\\anaconda3\\python.exe -m pip install --upgrade pip' command.\n"
     ]
    }
   ],
   "source": [
    "pip install scikit-plot"
   ]
  },
  {
   "cell_type": "code",
   "execution_count": 20,
   "id": "5db12191",
   "metadata": {},
   "outputs": [
    {
     "data": {
      "text/plain": [
       "<AxesSubplot:title={'center':'Confusion Matrix'}, xlabel='Predicted label', ylabel='True label'>"
      ]
     },
     "execution_count": 20,
     "metadata": {},
     "output_type": "execute_result"
    },
    {
     "data": {
      "image/png": "[encoded data removed]",
      "text/plain": [
       "<Figure size 432x288 with 2 Axes>"
      ]
     },
     "metadata": {
      "needs_background": "light"
     },
     "output_type": "display_data"
    }
   ],
   "source": [
    "import scikitplot as skplt\n",
    "from sklearn.metrics import accuracy_score, confusion_matrix, classification_report, roc_auc_score, roc_curve\n",
    "\n",
    "import matplotlib.gridspec as gridspec\n",
    "y_pred = lr.predict(X_test)\n",
    "matrix = confusion_matrix(y_test, y_pred)\n",
    "skplt.metrics.plot_confusion_matrix(y_test, y_pred)"
   ]
  },
  {
   "cell_type": "code",
   "execution_count": 21,
   "id": "9f5a4aa7",
   "metadata": {},
   "outputs": [],
   "source": [
    "from sklearn.metrics import precision_score\n",
    "from sklearn.metrics import recall_score\n",
    "from sklearn.metrics import f1_score"
   ]
  },
  {
   "cell_type": "code",
   "execution_count": 22,
   "id": "6632914f",
   "metadata": {},
   "outputs": [
    {
     "name": "stdout",
     "output_type": "stream",
     "text": [
      "accuracy: 0.999175\n",
      "Precision: 0.892\n",
      "Recall: 0.591837\n",
      "F-Measure: 0.711656\n"
     ]
    }
   ],
   "source": [
    "accuracy=accuracy_score(y_test, y_pred)\n",
    "print('accuracy: %.6f' % accuracy)\n",
    "precision = precision_score(y_test, y_pred, labels=[1,2], average='micro')\n",
    "print('Precision: %.3f' % precision)\n",
    "recall = recall_score(y_test, y_pred, average='binary')\n",
    "print('Recall: %.6f' % recall)\n",
    "score = f1_score(y_test, y_pred, average='binary')\n",
    "print('F-Measure: %.6f' % score)"
   ]
  },
  {
   "cell_type": "code",
   "execution_count": 31,
   "id": "79687781",
   "metadata": {},
   "outputs": [
    {
     "data": {
      "image/png": "[encoded data removed]",
      "text/plain": [
       "<Figure size 432x288 with 1 Axes>"
      ]
     },
     "metadata": {
      "needs_background": "light"
     },
     "output_type": "display_data"
    }
   ],
   "source": [
    "from sklearn.metrics import make_scorer, accuracy_score, roc_auc_score \n",
    "from sklearn.model_selection import GridSearchCV\n",
    "from sklearn.model_selection import train_test_split\n",
    "from sklearn import metrics\n",
    "from sklearn.metrics import roc_curve, roc_auc_score\n",
    "\n",
    "ROC = metrics.roc_auc_score(y_test,lr.predict_proba(X_test)[:,1])\n",
    "fpr, tpr, thresholds = metrics.roc_curve(y_test, lr.predict_proba(X_test)[:,1])\n",
    "\n",
    "plt.plot(fpr, tpr, label='Area under the curve = %0.5f)' % ROC,color=\"green\")\n",
    "plt.plot([0, 1], [0, 1],'r--')\n",
    "plt.xlim([0.0, 1.006])\n",
    "plt.ylim([0.0, 1.09])\n",
    "plt.xlabel('False Positive Rate')\n",
    "plt.ylabel('True Positive Rate')\n",
    "plt.title('Receiver operating characteristic')\n",
    "plt.legend(loc=\"lower right\")\n",
    "plt.show()"
   ]
  },
  {
   "cell_type": "code",
   "execution_count": 32,
   "id": "ed2d5a88",
   "metadata": {},
   "outputs": [],
   "source": [
    "X = cc_data.drop('Class',axis='columns')\n",
    "y = testLabels = cc_data.Class.astype(np.float32)\n",
    "\n",
    "from sklearn.model_selection import train_test_split\n",
    "X_train, X_test, y_train, y_test = train_test_split(X, y, test_size=0.2, random_state=15, stratify=y)"
   ]
  },
  {
   "cell_type": "code",
   "execution_count": 33,
   "id": "33ac6ed8",
   "metadata": {},
   "outputs": [],
   "source": [
    "from imblearn.over_sampling import SMOTE"
   ]
  },
  {
   "cell_type": "code",
   "execution_count": 34,
   "id": "26017901",
   "metadata": {},
   "outputs": [
    {
     "name": "stdout",
     "output_type": "stream",
     "text": [
      "Transaction Number x_train dataset:  (227845, 31)\n",
      "Transaction Number y_train dataset:  (227845,)\n",
      "Transaction Number x_test dataset:  (56962, 31)\n",
      "Transaction Number y_test dataset:  (56962,)\n",
      "Before OverSampling, counts of label '1': 394\n",
      "Before OverSampling, counts of label '0': 227451 \n",
      "\n",
      "After OverSampling, the shape of train_x: (454902, 31)\n",
      "After OverSampling, the shape of train_y: (454902,) \n",
      "\n",
      "After OverSampling, counts of label '1', %: 50.0\n",
      "After OverSampling, counts of label '0', %: 50.0\n"
     ]
    },
    {
     "ename": "NameError",
     "evalue": "name 'df' is not defined",
     "output_type": "error",
     "traceback": [
      "\u001b[1;31m---------------------------------------------------------------------------\u001b[0m",
      "\u001b[1;31mNameError\u001b[0m                                 Traceback (most recent call last)",
      "\u001b[1;32m~\\AppData\\Local\\Temp/ipykernel_18476/1106798.py\u001b[0m in \u001b[0;36m<module>\u001b[1;34m\u001b[0m\n\u001b[0;32m     17\u001b[0m \u001b[0mprint\u001b[0m\u001b[1;33m(\u001b[0m\u001b[1;34m\"After OverSampling, counts of label '0', %: {}\"\u001b[0m\u001b[1;33m.\u001b[0m\u001b[0mformat\u001b[0m\u001b[1;33m(\u001b[0m\u001b[0msum\u001b[0m\u001b[1;33m(\u001b[0m\u001b[0my_train_s\u001b[0m\u001b[1;33m==\u001b[0m\u001b[1;36m0\u001b[0m\u001b[1;33m)\u001b[0m\u001b[1;33m/\u001b[0m\u001b[0mlen\u001b[0m\u001b[1;33m(\u001b[0m\u001b[0my_train_s\u001b[0m\u001b[1;33m)\u001b[0m\u001b[1;33m*\u001b[0m\u001b[1;36m100.0\u001b[0m\u001b[1;33m,\u001b[0m\u001b[1;36m2\u001b[0m\u001b[1;33m)\u001b[0m\u001b[1;33m)\u001b[0m\u001b[1;33m\u001b[0m\u001b[1;33m\u001b[0m\u001b[0m\n\u001b[0;32m     18\u001b[0m \u001b[1;33m\u001b[0m\u001b[0m\n\u001b[1;32m---> 19\u001b[1;33m \u001b[0msns\u001b[0m\u001b[1;33m.\u001b[0m\u001b[0mcountplot\u001b[0m\u001b[1;33m(\u001b[0m\u001b[0mx\u001b[0m\u001b[1;33m=\u001b[0m\u001b[0my_train_s\u001b[0m\u001b[1;33m,\u001b[0m \u001b[0mdata\u001b[0m\u001b[1;33m=\u001b[0m\u001b[0mdf\u001b[0m\u001b[1;33m,\u001b[0m \u001b[0mpalette\u001b[0m\u001b[1;33m=\u001b[0m\u001b[1;34m'CMRmap'\u001b[0m\u001b[1;33m)\u001b[0m\u001b[1;33m\u001b[0m\u001b[1;33m\u001b[0m\u001b[0m\n\u001b[0m",
      "\u001b[1;31mNameError\u001b[0m: name 'df' is not defined"
     ]
    }
   ],
   "source": [
    "print(\"Transaction Number x_train dataset: \", X_train.shape)\n",
    "print(\"Transaction Number y_train dataset: \", y_train.shape)\n",
    "print(\"Transaction Number x_test dataset: \", X_test.shape)\n",
    "print(\"Transaction Number y_test dataset: \", y_test.shape)\n",
    "\n",
    "print(\"Before OverSampling, counts of label '1': {}\".format(sum(y_train==1)))\n",
    "print(\"Before OverSampling, counts of label '0': {} \\n\".format(sum(y_train==0)))\n",
    "\n",
    "\n",
    "sm = SMOTE()\n",
    "X_train_s, y_train_s = sm.fit_resample(X_train, y_train.ravel())\n",
    "\n",
    "print('After OverSampling, the shape of train_x: {}'.format(X_train_s.shape))\n",
    "print('After OverSampling, the shape of train_y: {} \\n'.format(y_train_s.shape))\n",
    "\n",
    "print(\"After OverSampling, counts of label '1', %: {}\".format(sum(y_train_s==1)/len(y_train_s)*100.0,2))\n",
    "print(\"After OverSampling, counts of label '0', %: {}\".format(sum(y_train_s==0)/len(y_train_s)*100.0,2))\n",
    "\n",
    "sns.countplot(x=y_train_s, data=df, palette='CMRmap')"
   ]
  },
  {
   "cell_type": "code",
   "execution_count": null,
   "id": "b3b963d5",
   "metadata": {},
   "outputs": [],
   "source": [
    "logreg = LogisticRegression()\n",
    "logreg.fit(X_train_s, y_train_s)\n",
    "y_pred = logreg.predict(X_test)\n",
    "cnf_matrix = confusion_matrix(y_test, y_pred)\n"
   ]
  },
  {
   "cell_type": "code",
   "execution_count": 35,
   "id": "4ccca1ff",
   "metadata": {},
   "outputs": [
    {
     "name": "stdout",
     "output_type": "stream",
     "text": [
      "accuracy: 0.999473\n",
      "Precision: 0.895\n",
      "Recall: 0.785714\n",
      "F-Measure: 0.836957\n"
     ]
    }
   ],
   "source": [
    "accuracy=accuracy_score(y_test, y_pred)\n",
    "print('accuracy: %.6f' % accuracy)\n",
    "precision = precision_score(y_test, y_pred, labels=[1,2], average='micro')\n",
    "print('Precision: %.3f' % precision)\n",
    "recall = recall_score(y_test, y_pred, average='binary')\n",
    "print('Recall: %.6f' % recall)\n",
    "score = f1_score(y_test, y_pred, average='binary')\n",
    "print('F-Measure: %.6f' % score)"
   ]
  },
  {
   "cell_type": "code",
   "execution_count": 36,
   "id": "6b694987",
   "metadata": {},
   "outputs": [],
   "source": [
    "X = cc_data.drop('Class',axis='columns')\n",
    "y = testLabels = cc_data.Class.astype(np.float32)\n",
    "\n",
    "from sklearn.model_selection import train_test_split\n",
    "X_train, X_test, y_train, y_test = train_test_split(X, y, test_size=0.2, random_state=15, stratify=y)"
   ]
  },
  {
   "cell_type": "code",
   "execution_count": 37,
   "id": "97494c43",
   "metadata": {},
   "outputs": [],
   "source": [
    "#using weighted logistic regression\n",
    "lr_model = LogisticRegression(class_weight='balanced')\n",
    "lr_model.fit(X_train,y_train)\n",
    "y_pred = lr_model.predict(X_test)\n",
    "cnf_matrix = confusion_matrix(y_test, y_pred)"
   ]
  },
  {
   "cell_type": "code",
   "execution_count": 38,
   "id": "8d465bc2",
   "metadata": {},
   "outputs": [
    {
     "name": "stdout",
     "output_type": "stream",
     "text": [
      "accuracy: 0.976739\n",
      "Precision: 0.063\n",
      "Recall: 0.908163\n",
      "F-Measure: 0.118430\n"
     ]
    }
   ],
   "source": [
    "accuracy=accuracy_score(y_test, y_pred)\n",
    "print('accuracy: %.6f' % accuracy)\n",
    "precision = precision_score(y_test, y_pred, labels=[1,2], average='micro')\n",
    "print('Precision: %.3f' % precision)\n",
    "recall = recall_score(y_test, y_pred, average='binary')\n",
    "print('Recall: %.6f' % recall)\n",
    "score = f1_score(y_test, y_pred, average='binary')\n",
    "print('F-Measure: %.6f' % score)"
   ]
  },
  {
   "cell_type": "code",
   "execution_count": 39,
   "id": "c9ff014b",
   "metadata": {},
   "outputs": [],
   "source": [
    "df=cc_data"
   ]
  },
  {
   "cell_type": "code",
   "execution_count": 40,
   "id": "49010020",
   "metadata": {},
   "outputs": [],
   "source": [
    "# Class count\n",
    "count_class_0, count_class_1 = df.Class.value_counts()\n",
    "\n",
    "# Divide by class\n",
    "df_class_0 = df[df['Class'] == 0]\n",
    "df_class_1 = df[df['Class'] == 1]"
   ]
  },
  {
   "cell_type": "code",
   "execution_count": 41,
   "id": "a7ec21da",
   "metadata": {},
   "outputs": [
    {
     "name": "stdout",
     "output_type": "stream",
     "text": [
      "Random under-sampling:\n",
      "0    492\n",
      "1    492\n",
      "Name: Class, dtype: int64\n"
     ]
    },
    {
     "data": {
      "image/png": "[encoded data removed]",
      "text/plain": [
       "<Figure size 432x288 with 1 Axes>"
      ]
     },
     "metadata": {
      "needs_background": "light"
     },
     "output_type": "display_data"
    }
   ],
   "source": [
    "#undersampling\n",
    "df_class_0_under = df_class_0.sample(count_class_1)\n",
    "df_test_under = pd.concat([df_class_0_under, df_class_1], axis=0)\n",
    "\n",
    "print('Random under-sampling:')\n",
    "print(df_test_under.Class.value_counts())\n",
    "\n",
    "df_test_under.Class.value_counts().plot(kind='bar', title='Count (Class)');"
   ]
  },
  {
   "cell_type": "code",
   "execution_count": 42,
   "id": "6ae79bf6",
   "metadata": {},
   "outputs": [],
   "source": [
    "X = df_test_under.drop('Class',axis='columns')\n",
    "y = df_test_under['Class']\n",
    "\n",
    "from sklearn.model_selection import train_test_split\n",
    "X_train, X_test, y_train, y_test = train_test_split(X, y, test_size=0.2, random_state=15, stratify=y)"
   ]
  },
  {
   "cell_type": "code",
   "execution_count": 43,
   "id": "b7f334c0",
   "metadata": {},
   "outputs": [],
   "source": [
    "lr_model = LogisticRegression(class_weight='balanced')\n",
    "lr_model.fit(X_train,y_train)\n",
    "y_pred = lr_model.predict(X_test)\n",
    "cnf_matrix = confusion_matrix(y_test, y_pred)"
   ]
  },
  {
   "cell_type": "code",
   "execution_count": 44,
   "id": "d0fda282",
   "metadata": {},
   "outputs": [
    {
     "name": "stdout",
     "output_type": "stream",
     "text": [
      "accuracy: 0.949239\n",
      "Precision: 0.968\n",
      "Recall: 0.928571\n",
      "F-Measure: 0.947917\n"
     ]
    }
   ],
   "source": [
    "accuracy=accuracy_score(y_test, y_pred)\n",
    "print('accuracy: %.6f' % accuracy)\n",
    "precision = precision_score(y_test, y_pred, labels=[1,2], average='micro')\n",
    "print('Precision: %.3f' % precision)\n",
    "recall = recall_score(y_test, y_pred, average='binary')\n",
    "print('Recall: %.6f' % recall)\n",
    "score = f1_score(y_test, y_pred, average='binary')\n",
    "print('F-Measure: %.6f' % score)"
   ]
  },
  {
   "cell_type": "code",
   "execution_count": 45,
   "id": "d961011a",
   "metadata": {},
   "outputs": [],
   "source": [
    "#oversampling"
   ]
  },
  {
   "cell_type": "code",
   "execution_count": 46,
   "id": "5f56d62e",
   "metadata": {},
   "outputs": [
    {
     "name": "stdout",
     "output_type": "stream",
     "text": [
      "Random over-sampling:\n",
      "0    284315\n",
      "1    284315\n",
      "Name: Class, dtype: int64\n"
     ]
    },
    {
     "data": {
      "image/png": "[encoded data removed]",
      "text/plain": [
       "<Figure size 432x288 with 1 Axes>"
      ]
     },
     "metadata": {
      "needs_background": "light"
     },
     "output_type": "display_data"
    }
   ],
   "source": [
    "df_class_1_over = df_class_1.sample(count_class_0, replace=True)\n",
    "df_test_over = pd.concat([df_class_0, df_class_1_over], axis=0)\n",
    "\n",
    "print('Random over-sampling:')\n",
    "print(df_test_over.Class.value_counts())\n",
    "\n",
    "df_test_over.Class.value_counts().plot(kind='bar', title='Count (Class)');"
   ]
  },
  {
   "cell_type": "code",
   "execution_count": 47,
   "id": "62909933",
   "metadata": {},
   "outputs": [],
   "source": [
    "X = df_test_over.drop('Class',axis='columns')\n",
    "y = df_test_over['Class']\n",
    "\n",
    "from sklearn.model_selection import train_test_split\n",
    "X_train, X_test, y_train, y_test = train_test_split(X, y, test_size=0.2, random_state=15, stratify=y)"
   ]
  },
  {
   "cell_type": "code",
   "execution_count": 48,
   "id": "3d1f20cf",
   "metadata": {},
   "outputs": [],
   "source": [
    "lr_model = LogisticRegression(class_weight='balanced')\n",
    "lr_model.fit(X_train,y_train)\n",
    "y_pred = lr_model.predict(X_test)\n",
    "cnf_matrix = confusion_matrix(y_test, y_pred)"
   ]
  },
  {
   "cell_type": "code",
   "execution_count": 49,
   "id": "6401ae43",
   "metadata": {},
   "outputs": [
    {
     "name": "stdout",
     "output_type": "stream",
     "text": [
      "accuracy: 0.949581\n",
      "Precision: 0.976\n",
      "Recall: 0.921337\n",
      "F-Measure: 0.948115\n"
     ]
    }
   ],
   "source": [
    "accuracy=accuracy_score(y_test, y_pred)\n",
    "print('accuracy: %.6f' % accuracy)\n",
    "precision = precision_score(y_test, y_pred, labels=[1,2], average='micro')\n",
    "print('Precision: %.3f' % precision)\n",
    "recall = recall_score(y_test, y_pred, average='binary')\n",
    "print('Recall: %.6f' % recall)\n",
    "score = f1_score(y_test, y_pred, average='binary')\n",
    "print('F-Measure: %.6f' % score)"
   ]
  },
  {
   "cell_type": "code",
   "execution_count": 50,
   "id": "3743bf82",
   "metadata": {},
   "outputs": [
    {
     "name": "stdout",
     "output_type": "stream",
     "text": [
      "Requirement already satisfied: featurewiz in c:\\users\\khan1\\anaconda3\\lib\\site-packages (0.1.41)\n",
      "Requirement already satisfied: tqdm in c:\\users\\khan1\\anaconda3\\lib\\site-packages (from featurewiz) (4.62.3)\n",
      "Requirement already satisfied: pyarrow==7.0.0 in c:\\users\\khan1\\anaconda3\\lib\\site-packages (from featurewiz) (7.0.0)\n",
      "Note: you may need to restart the kernel to use updated packages.\n"
     ]
    },
    {
     "name": "stderr",
     "output_type": "stream",
     "text": [
      "WARNING: You are using pip version 22.0.3; however, version 22.1.1 is available.\n",
      "You should consider upgrading via the 'C:\\Users\\khan1\\anaconda3\\python.exe -m pip install --upgrade pip' command.\n"
     ]
    },
    {
     "name": "stdout",
     "output_type": "stream",
     "text": [
      "Requirement already satisfied: pandas>=1.3.4 in c:\\users\\khan1\\anaconda3\\lib\\site-packages (from featurewiz) (1.3.4)\n",
      "Requirement already satisfied: seaborn in c:\\users\\khan1\\anaconda3\\lib\\site-packages (from featurewiz) (0.11.2)\n",
      "Requirement already satisfied: category-encoders in c:\\users\\khan1\\anaconda3\\lib\\site-packages (from featurewiz) (2.4.1)\n",
      "Requirement already satisfied: xgboost>=1.5.1 in c:\\users\\khan1\\anaconda3\\lib\\site-packages (from featurewiz) (1.6.1)\n",
      "Requirement already satisfied: jupyter in c:\\users\\khan1\\anaconda3\\lib\\site-packages (from featurewiz) (1.0.0)\n",
      "Requirement already satisfied: lightgbm>=3.2.1 in c:\\users\\khan1\\anaconda3\\lib\\site-packages (from featurewiz) (3.3.2)\n",
      "Requirement already satisfied: networkx in c:\\users\\khan1\\anaconda3\\lib\\site-packages (from featurewiz) (2.6.3)\n",
      "Requirement already satisfied: feather-format>=0.4.1 in c:\\users\\khan1\\anaconda3\\lib\\site-packages (from featurewiz) (0.4.1)\n",
      "Requirement already satisfied: fsspec>=0.3.3 in c:\\users\\khan1\\anaconda3\\lib\\site-packages (from featurewiz) (2021.10.1)\n",
      "Requirement already satisfied: scikit-learn>=0.23.2 in c:\\users\\khan1\\anaconda3\\lib\\site-packages (from featurewiz) (1.0.2)\n",
      "Requirement already satisfied: Pillow<=9.0.0 in c:\\users\\khan1\\anaconda3\\lib\\site-packages (from featurewiz) (8.4.0)\n",
      "Requirement already satisfied: distributed>=2021.11.0 in c:\\users\\khan1\\anaconda3\\lib\\site-packages (from featurewiz) (2022.5.0)\n",
      "Requirement already satisfied: matplotlib in c:\\users\\khan1\\anaconda3\\lib\\site-packages (from featurewiz) (3.4.3)\n",
      "Requirement already satisfied: ipython in c:\\users\\khan1\\anaconda3\\lib\\site-packages (from featurewiz) (7.29.0)\n",
      "Requirement already satisfied: dask>=2021.11.0 in c:\\users\\khan1\\anaconda3\\lib\\site-packages (from featurewiz) (2022.5.0)\n",
      "Requirement already satisfied: xlrd in c:\\users\\khan1\\anaconda3\\lib\\site-packages (from featurewiz) (2.0.1)\n",
      "Requirement already satisfied: imbalanced-learn>=0.7 in c:\\users\\khan1\\anaconda3\\lib\\site-packages (from featurewiz) (0.9.0)\n",
      "Requirement already satisfied: numpy>=1.16.6 in c:\\users\\khan1\\anaconda3\\lib\\site-packages (from pyarrow==7.0.0->featurewiz) (1.20.3)\n",
      "Requirement already satisfied: cloudpickle>=1.1.1 in c:\\users\\khan1\\anaconda3\\lib\\site-packages (from dask>=2021.11.0->featurewiz) (2.0.0)\n",
      "Requirement already satisfied: partd>=0.3.10 in c:\\users\\khan1\\anaconda3\\lib\\site-packages (from dask>=2021.11.0->featurewiz) (1.2.0)\n",
      "Requirement already satisfied: pyyaml>=5.3.1 in c:\\users\\khan1\\anaconda3\\lib\\site-packages (from dask>=2021.11.0->featurewiz) (6.0)\n",
      "Requirement already satisfied: packaging>=20.0 in c:\\users\\khan1\\anaconda3\\lib\\site-packages (from dask>=2021.11.0->featurewiz) (21.0)\n",
      "Requirement already satisfied: toolz>=0.8.2 in c:\\users\\khan1\\anaconda3\\lib\\site-packages (from dask>=2021.11.0->featurewiz) (0.11.1)\n",
      "Requirement already satisfied: click>=6.6 in c:\\users\\khan1\\anaconda3\\lib\\site-packages (from distributed>=2021.11.0->featurewiz) (8.0.3)\n",
      "Requirement already satisfied: zict>=0.1.3 in c:\\users\\khan1\\anaconda3\\lib\\site-packages (from distributed>=2021.11.0->featurewiz) (2.0.0)\n",
      "Requirement already satisfied: jinja2 in c:\\users\\khan1\\anaconda3\\lib\\site-packages (from distributed>=2021.11.0->featurewiz) (2.11.3)\n",
      "Requirement already satisfied: tornado>=6.0.3 in c:\\users\\khan1\\anaconda3\\lib\\site-packages (from distributed>=2021.11.0->featurewiz) (6.1)\n",
      "Requirement already satisfied: locket>=1.0.0 in c:\\users\\khan1\\anaconda3\\lib\\site-packages (from distributed>=2021.11.0->featurewiz) (1.0.0)\n",
      "Requirement already satisfied: tblib>=1.6.0 in c:\\users\\khan1\\anaconda3\\lib\\site-packages (from distributed>=2021.11.0->featurewiz) (1.7.0)\n",
      "Requirement already satisfied: msgpack>=0.6.0 in c:\\users\\khan1\\anaconda3\\lib\\site-packages (from distributed>=2021.11.0->featurewiz) (1.0.2)\n",
      "Requirement already satisfied: psutil>=5.0 in c:\\users\\khan1\\anaconda3\\lib\\site-packages (from distributed>=2021.11.0->featurewiz) (5.8.0)\n",
      "Requirement already satisfied: urllib3 in c:\\users\\khan1\\anaconda3\\lib\\site-packages (from distributed>=2021.11.0->featurewiz) (1.26.7)\n",
      "Requirement already satisfied: sortedcontainers!=2.0.0,!=2.0.1 in c:\\users\\khan1\\anaconda3\\lib\\site-packages (from distributed>=2021.11.0->featurewiz) (2.4.0)\n",
      "Requirement already satisfied: colorama in c:\\users\\khan1\\anaconda3\\lib\\site-packages (from click>=6.6->distributed>=2021.11.0->featurewiz) (0.4.4)\n",
      "Requirement already satisfied: scipy>=1.1.0 in c:\\users\\khan1\\anaconda3\\lib\\site-packages (from imbalanced-learn>=0.7->featurewiz) (1.7.1)\n",
      "Requirement already satisfied: joblib>=0.11 in c:\\users\\khan1\\anaconda3\\lib\\site-packages (from imbalanced-learn>=0.7->featurewiz) (1.1.0)\n",
      "Requirement already satisfied: threadpoolctl>=2.0.0 in c:\\users\\khan1\\anaconda3\\lib\\site-packages (from imbalanced-learn>=0.7->featurewiz) (2.2.0)\n",
      "Requirement already satisfied: wheel in c:\\users\\khan1\\anaconda3\\lib\\site-packages (from lightgbm>=3.2.1->featurewiz) (0.37.0)\n",
      "Requirement already satisfied: pyparsing>=2.0.2 in c:\\users\\khan1\\anaconda3\\lib\\site-packages (from packaging>=20.0->dask>=2021.11.0->featurewiz) (3.0.4)\n",
      "Requirement already satisfied: pytz>=2017.3 in c:\\users\\khan1\\anaconda3\\lib\\site-packages (from pandas>=1.3.4->featurewiz) (2021.3)\n",
      "Requirement already satisfied: python-dateutil>=2.7.3 in c:\\users\\khan1\\anaconda3\\lib\\site-packages (from pandas>=1.3.4->featurewiz) (2.8.2)\n",
      "Requirement already satisfied: six>=1.5 in c:\\users\\khan1\\anaconda3\\lib\\site-packages (from python-dateutil>=2.7.3->pandas>=1.3.4->featurewiz) (1.16.0)\n",
      "Requirement already satisfied: heapdict in c:\\users\\khan1\\anaconda3\\lib\\site-packages (from zict>=0.1.3->distributed>=2021.11.0->featurewiz) (1.0.1)\n",
      "Requirement already satisfied: statsmodels>=0.9.0 in c:\\users\\khan1\\anaconda3\\lib\\site-packages (from category-encoders->featurewiz) (0.12.2)\n",
      "Requirement already satisfied: patsy>=0.5.1 in c:\\users\\khan1\\anaconda3\\lib\\site-packages (from category-encoders->featurewiz) (0.5.2)\n",
      "Requirement already satisfied: traitlets>=4.2 in c:\\users\\khan1\\anaconda3\\lib\\site-packages (from ipython->featurewiz) (5.1.0)\n",
      "Requirement already satisfied: setuptools>=18.5 in c:\\users\\khan1\\anaconda3\\lib\\site-packages (from ipython->featurewiz) (58.0.4)\n",
      "Requirement already satisfied: matplotlib-inline in c:\\users\\khan1\\anaconda3\\lib\\site-packages (from ipython->featurewiz) (0.1.2)\n",
      "Requirement already satisfied: jedi>=0.16 in c:\\users\\khan1\\anaconda3\\lib\\site-packages (from ipython->featurewiz) (0.18.0)\n",
      "Requirement already satisfied: pygments in c:\\users\\khan1\\anaconda3\\lib\\site-packages (from ipython->featurewiz) (2.10.0)\n",
      "Requirement already satisfied: prompt-toolkit!=3.0.0,!=3.0.1,<3.1.0,>=2.0.0 in c:\\users\\khan1\\anaconda3\\lib\\site-packages (from ipython->featurewiz) (3.0.20)\n",
      "Requirement already satisfied: backcall in c:\\users\\khan1\\anaconda3\\lib\\site-packages (from ipython->featurewiz) (0.2.0)\n",
      "Requirement already satisfied: pickleshare in c:\\users\\khan1\\anaconda3\\lib\\site-packages (from ipython->featurewiz) (0.7.5)\n",
      "Requirement already satisfied: decorator in c:\\users\\khan1\\anaconda3\\lib\\site-packages (from ipython->featurewiz) (5.1.0)\n",
      "Requirement already satisfied: parso<0.9.0,>=0.8.0 in c:\\users\\khan1\\anaconda3\\lib\\site-packages (from jedi>=0.16->ipython->featurewiz) (0.8.2)\n",
      "Requirement already satisfied: wcwidth in c:\\users\\khan1\\anaconda3\\lib\\site-packages (from prompt-toolkit!=3.0.0,!=3.0.1,<3.1.0,>=2.0.0->ipython->featurewiz) (0.2.5)\n",
      "Requirement already satisfied: MarkupSafe>=0.23 in c:\\users\\khan1\\anaconda3\\lib\\site-packages (from jinja2->distributed>=2021.11.0->featurewiz) (1.1.1)\n",
      "Requirement already satisfied: ipykernel in c:\\users\\khan1\\anaconda3\\lib\\site-packages (from jupyter->featurewiz) (6.4.1)\n",
      "Requirement already satisfied: notebook in c:\\users\\khan1\\anaconda3\\lib\\site-packages (from jupyter->featurewiz) (6.4.5)\n",
      "Requirement already satisfied: nbconvert in c:\\users\\khan1\\anaconda3\\lib\\site-packages (from jupyter->featurewiz) (6.1.0)\n",
      "Requirement already satisfied: qtconsole in c:\\users\\khan1\\anaconda3\\lib\\site-packages (from jupyter->featurewiz) (5.1.1)\n",
      "Requirement already satisfied: ipywidgets in c:\\users\\khan1\\anaconda3\\lib\\site-packages (from jupyter->featurewiz) (7.6.5)\n",
      "Requirement already satisfied: jupyter-console in c:\\users\\khan1\\anaconda3\\lib\\site-packages (from jupyter->featurewiz) (6.4.0)\n",
      "Requirement already satisfied: debugpy<2.0,>=1.0.0 in c:\\users\\khan1\\anaconda3\\lib\\site-packages (from ipykernel->jupyter->featurewiz) (1.4.1)\n",
      "Requirement already satisfied: jupyter-client<8.0 in c:\\users\\khan1\\anaconda3\\lib\\site-packages (from ipykernel->jupyter->featurewiz) (6.1.12)\n",
      "Requirement already satisfied: ipython-genutils in c:\\users\\khan1\\anaconda3\\lib\\site-packages (from ipykernel->jupyter->featurewiz) (0.2.0)\n",
      "Requirement already satisfied: pyzmq>=13 in c:\\users\\khan1\\anaconda3\\lib\\site-packages (from jupyter-client<8.0->ipykernel->jupyter->featurewiz) (22.2.1)\n",
      "Requirement already satisfied: jupyter-core>=4.6.0 in c:\\users\\khan1\\anaconda3\\lib\\site-packages (from jupyter-client<8.0->ipykernel->jupyter->featurewiz) (4.8.1)\n",
      "Requirement already satisfied: pywin32>=1.0 in c:\\users\\khan1\\anaconda3\\lib\\site-packages (from jupyter-core>=4.6.0->jupyter-client<8.0->ipykernel->jupyter->featurewiz) (228)\n",
      "Requirement already satisfied: nbformat>=4.2.0 in c:\\users\\khan1\\anaconda3\\lib\\site-packages (from ipywidgets->jupyter->featurewiz) (5.1.3)\n",
      "Requirement already satisfied: jupyterlab-widgets>=1.0.0 in c:\\users\\khan1\\anaconda3\\lib\\site-packages (from ipywidgets->jupyter->featurewiz) (1.0.0)\n",
      "Requirement already satisfied: widgetsnbextension~=3.5.0 in c:\\users\\khan1\\anaconda3\\lib\\site-packages (from ipywidgets->jupyter->featurewiz) (3.5.1)\n",
      "Requirement already satisfied: jsonschema!=2.5.0,>=2.4 in c:\\users\\khan1\\anaconda3\\lib\\site-packages (from nbformat>=4.2.0->ipywidgets->jupyter->featurewiz) (3.2.0)\n",
      "Requirement already satisfied: pyrsistent>=0.14.0 in c:\\users\\khan1\\anaconda3\\lib\\site-packages (from jsonschema!=2.5.0,>=2.4->nbformat>=4.2.0->ipywidgets->jupyter->featurewiz) (0.18.0)\n",
      "Requirement already satisfied: attrs>=17.4.0 in c:\\users\\khan1\\anaconda3\\lib\\site-packages (from jsonschema!=2.5.0,>=2.4->nbformat>=4.2.0->ipywidgets->jupyter->featurewiz) (21.2.0)\n",
      "Requirement already satisfied: argon2-cffi in c:\\users\\khan1\\anaconda3\\lib\\site-packages (from notebook->jupyter->featurewiz) (20.1.0)\n",
      "Requirement already satisfied: prometheus-client in c:\\users\\khan1\\anaconda3\\lib\\site-packages (from notebook->jupyter->featurewiz) (0.11.0)\n",
      "Requirement already satisfied: terminado>=0.8.3 in c:\\users\\khan1\\anaconda3\\lib\\site-packages (from notebook->jupyter->featurewiz) (0.9.4)\n",
      "Requirement already satisfied: Send2Trash>=1.5.0 in c:\\users\\khan1\\anaconda3\\lib\\site-packages (from notebook->jupyter->featurewiz) (1.8.0)\n",
      "Requirement already satisfied: pywinpty>=0.5 in c:\\users\\khan1\\anaconda3\\lib\\site-packages (from terminado>=0.8.3->notebook->jupyter->featurewiz) (0.5.7)\n",
      "Requirement already satisfied: cffi>=1.0.0 in c:\\users\\khan1\\anaconda3\\lib\\site-packages (from argon2-cffi->notebook->jupyter->featurewiz) (1.14.6)\n",
      "Requirement already satisfied: pycparser in c:\\users\\khan1\\anaconda3\\lib\\site-packages (from cffi>=1.0.0->argon2-cffi->notebook->jupyter->featurewiz) (2.20)\n",
      "Requirement already satisfied: kiwisolver>=1.0.1 in c:\\users\\khan1\\anaconda3\\lib\\site-packages (from matplotlib->featurewiz) (1.3.1)\n",
      "Requirement already satisfied: cycler>=0.10 in c:\\users\\khan1\\anaconda3\\lib\\site-packages (from matplotlib->featurewiz) (0.10.0)\n",
      "Requirement already satisfied: pandocfilters>=1.4.1 in c:\\users\\khan1\\anaconda3\\lib\\site-packages (from nbconvert->jupyter->featurewiz) (1.4.3)\n",
      "Requirement already satisfied: nbclient<0.6.0,>=0.5.0 in c:\\users\\khan1\\anaconda3\\lib\\site-packages (from nbconvert->jupyter->featurewiz) (0.5.3)\n",
      "Requirement already satisfied: bleach in c:\\users\\khan1\\anaconda3\\lib\\site-packages (from nbconvert->jupyter->featurewiz) (4.0.0)\n",
      "Requirement already satisfied: testpath in c:\\users\\khan1\\anaconda3\\lib\\site-packages (from nbconvert->jupyter->featurewiz) (0.5.0)\n",
      "Requirement already satisfied: jupyterlab-pygments in c:\\users\\khan1\\anaconda3\\lib\\site-packages (from nbconvert->jupyter->featurewiz) (0.1.2)\n",
      "Requirement already satisfied: defusedxml in c:\\users\\khan1\\anaconda3\\lib\\site-packages (from nbconvert->jupyter->featurewiz) (0.7.1)\n",
      "Requirement already satisfied: entrypoints>=0.2.2 in c:\\users\\khan1\\anaconda3\\lib\\site-packages (from nbconvert->jupyter->featurewiz) (0.3)\n",
      "Requirement already satisfied: mistune<2,>=0.8.1 in c:\\users\\khan1\\anaconda3\\lib\\site-packages (from nbconvert->jupyter->featurewiz) (0.8.4)\n",
      "Requirement already satisfied: nest-asyncio in c:\\users\\khan1\\anaconda3\\lib\\site-packages (from nbclient<0.6.0,>=0.5.0->nbconvert->jupyter->featurewiz) (1.5.1)\n",
      "Requirement already satisfied: async-generator in c:\\users\\khan1\\anaconda3\\lib\\site-packages (from nbclient<0.6.0,>=0.5.0->nbconvert->jupyter->featurewiz) (1.10)\n",
      "Requirement already satisfied: webencodings in c:\\users\\khan1\\anaconda3\\lib\\site-packages (from bleach->nbconvert->jupyter->featurewiz) (0.5.1)\n",
      "Requirement already satisfied: qtpy in c:\\users\\khan1\\anaconda3\\lib\\site-packages (from qtconsole->jupyter->featurewiz) (1.10.0)\n"
     ]
    }
   ],
   "source": [
    "pip install featurewiz"
   ]
  },
  {
   "cell_type": "code",
   "execution_count": 51,
   "id": "3d434b2f",
   "metadata": {},
   "outputs": [
    {
     "name": "stdout",
     "output_type": "stream",
     "text": [
      "Imported version = 0.1.41.\n",
      "from featurewiz import FeatureWiz\n",
      "wiz = FeatureWiz(verbose=1)\n",
      "X_train_selected = wiz.fit_transform(X_train, y_train)\n",
      "X_test_selected = wiz.transform(X_test)\n",
      "wiz.features  ### provides a list of selected features ###\n",
      "                                \n"
     ]
    }
   ],
   "source": [
    "from featurewiz import featurewiz\n",
    "np.random.seed(1234)"
   ]
  },
  {
   "cell_type": "code",
   "execution_count": 52,
   "id": "9034acd6",
   "metadata": {},
   "outputs": [
    {
     "ename": "NameError",
     "evalue": "name 'data' is not defined",
     "output_type": "error",
     "traceback": [
      "\u001b[1;31m---------------------------------------------------------------------------\u001b[0m",
      "\u001b[1;31mNameError\u001b[0m                                 Traceback (most recent call last)",
      "\u001b[1;32m~\\AppData\\Local\\Temp/ipykernel_18476/2822932578.py\u001b[0m in \u001b[0;36m<module>\u001b[1;34m\u001b[0m\n\u001b[0;32m      1\u001b[0m \u001b[0mtarget\u001b[0m \u001b[1;33m=\u001b[0m \u001b[1;34m'Class'\u001b[0m\u001b[1;33m\u001b[0m\u001b[1;33m\u001b[0m\u001b[0m\n\u001b[0;32m      2\u001b[0m \u001b[1;33m\u001b[0m\u001b[0m\n\u001b[1;32m----> 3\u001b[1;33m features, train = featurewiz(data, target, corr_limit=0.7, verbose=2, sep=\",\",\n\u001b[0m\u001b[0;32m      4\u001b[0m header=0,test_data=\"\", feature_engg=\"\", category_encoders=\"\")\n",
      "\u001b[1;31mNameError\u001b[0m: name 'data' is not defined"
     ]
    }
   ],
   "source": [
    "target = 'Class'\n",
    " \n",
    "features, train = featurewiz(data, target, corr_limit=0.7, verbose=2, sep=\",\",\n",
    "header=0,test_data=\"\", feature_engg=\"\", category_encoders=\"\")"
   ]
  },
  {
   "cell_type": "code",
   "execution_count": null,
   "id": "e429c6d4",
   "metadata": {},
   "outputs": [],
   "source": [
    "print(features)"
   ]
  },
  {
   "cell_type": "code",
   "execution_count": 53,
   "id": "94350cea",
   "metadata": {},
   "outputs": [
    {
     "data": {
      "text/html": [
       "<div>\n",
       "<style scoped>\n",
       "    .dataframe tbody tr th:only-of-type {\n",
       "        vertical-align: middle;\n",
       "    }\n",
       "\n",
       "    .dataframe tbody tr th {\n",
       "        vertical-align: top;\n",
       "    }\n",
       "\n",
       "    .dataframe thead th {\n",
       "        text-align: right;\n",
       "    }\n",
       "</style>\n",
       "<table border=\"1\" class=\"dataframe\">\n",
       "  <thead>\n",
       "    <tr style=\"text-align: right;\">\n",
       "      <th></th>\n",
       "      <th>Class</th>\n",
       "      <th>V10</th>\n",
       "      <th>V14</th>\n",
       "      <th>V7</th>\n",
       "      <th>V27</th>\n",
       "      <th>V12</th>\n",
       "      <th>V26</th>\n",
       "      <th>V28</th>\n",
       "      <th>V5</th>\n",
       "      <th>V17</th>\n",
       "      <th>V25</th>\n",
       "      <th>V20</th>\n",
       "      <th>V16</th>\n",
       "      <th>V13</th>\n",
       "      <th>V24</th>\n",
       "      <th>V21</th>\n",
       "      <th>V18</th>\n",
       "      <th>hour</th>\n",
       "      <th>V23</th>\n",
       "    </tr>\n",
       "  </thead>\n",
       "  <tbody>\n",
       "    <tr>\n",
       "      <th>0</th>\n",
       "      <td>0</td>\n",
       "      <td>0.090794</td>\n",
       "      <td>-0.311169</td>\n",
       "      <td>0.239599</td>\n",
       "      <td>0.133558</td>\n",
       "      <td>-0.617801</td>\n",
       "      <td>-0.189115</td>\n",
       "      <td>-0.021053</td>\n",
       "      <td>-0.338321</td>\n",
       "      <td>0.207971</td>\n",
       "      <td>0.128539</td>\n",
       "      <td>0.251412</td>\n",
       "      <td>-0.470401</td>\n",
       "      <td>-0.991390</td>\n",
       "      <td>0.066928</td>\n",
       "      <td>-0.018307</td>\n",
       "      <td>0.025791</td>\n",
       "      <td>0.0</td>\n",
       "      <td>-0.110474</td>\n",
       "    </tr>\n",
       "    <tr>\n",
       "      <th>1</th>\n",
       "      <td>0</td>\n",
       "      <td>-0.166974</td>\n",
       "      <td>-0.143772</td>\n",
       "      <td>-0.078803</td>\n",
       "      <td>-0.008983</td>\n",
       "      <td>1.065235</td>\n",
       "      <td>0.125895</td>\n",
       "      <td>0.014724</td>\n",
       "      <td>0.060018</td>\n",
       "      <td>-0.114805</td>\n",
       "      <td>0.167170</td>\n",
       "      <td>-0.069083</td>\n",
       "      <td>0.463917</td>\n",
       "      <td>0.489095</td>\n",
       "      <td>-0.339846</td>\n",
       "      <td>-0.225775</td>\n",
       "      <td>-0.183361</td>\n",
       "      <td>0.0</td>\n",
       "      <td>0.101288</td>\n",
       "    </tr>\n",
       "    <tr>\n",
       "      <th>2</th>\n",
       "      <td>0</td>\n",
       "      <td>0.207643</td>\n",
       "      <td>-0.165946</td>\n",
       "      <td>0.791461</td>\n",
       "      <td>-0.055353</td>\n",
       "      <td>0.066084</td>\n",
       "      <td>-0.139097</td>\n",
       "      <td>-0.059752</td>\n",
       "      <td>-0.503198</td>\n",
       "      <td>1.109969</td>\n",
       "      <td>-0.327642</td>\n",
       "      <td>0.524980</td>\n",
       "      <td>-2.890083</td>\n",
       "      <td>0.717293</td>\n",
       "      <td>-0.689281</td>\n",
       "      <td>0.247998</td>\n",
       "      <td>-0.121359</td>\n",
       "      <td>1.0</td>\n",
       "      <td>0.909412</td>\n",
       "    </tr>\n",
       "    <tr>\n",
       "      <th>3</th>\n",
       "      <td>0</td>\n",
       "      <td>-0.054952</td>\n",
       "      <td>-0.287924</td>\n",
       "      <td>0.237609</td>\n",
       "      <td>0.062723</td>\n",
       "      <td>0.178228</td>\n",
       "      <td>-0.221929</td>\n",
       "      <td>0.061458</td>\n",
       "      <td>-0.010309</td>\n",
       "      <td>-0.684093</td>\n",
       "      <td>0.647376</td>\n",
       "      <td>-0.208038</td>\n",
       "      <td>-1.059647</td>\n",
       "      <td>0.507757</td>\n",
       "      <td>-1.175575</td>\n",
       "      <td>-0.108300</td>\n",
       "      <td>1.965775</td>\n",
       "      <td>1.0</td>\n",
       "      <td>-0.190321</td>\n",
       "    </tr>\n",
       "    <tr>\n",
       "      <th>4</th>\n",
       "      <td>0</td>\n",
       "      <td>0.753074</td>\n",
       "      <td>-1.119670</td>\n",
       "      <td>0.592941</td>\n",
       "      <td>0.219422</td>\n",
       "      <td>0.538196</td>\n",
       "      <td>0.502292</td>\n",
       "      <td>0.215153</td>\n",
       "      <td>-0.407193</td>\n",
       "      <td>-0.237033</td>\n",
       "      <td>-0.206010</td>\n",
       "      <td>0.408542</td>\n",
       "      <td>-0.451449</td>\n",
       "      <td>1.345852</td>\n",
       "      <td>0.141267</td>\n",
       "      <td>-0.009431</td>\n",
       "      <td>-0.038195</td>\n",
       "      <td>1.0</td>\n",
       "      <td>-0.137458</td>\n",
       "    </tr>\n",
       "  </tbody>\n",
       "</table>\n",
       "</div>"
      ],
      "text/plain": [
       "   Class       V10       V14        V7       V27       V12       V26  \\\n",
       "0      0  0.090794 -0.311169  0.239599  0.133558 -0.617801 -0.189115   \n",
       "1      0 -0.166974 -0.143772 -0.078803 -0.008983  1.065235  0.125895   \n",
       "2      0  0.207643 -0.165946  0.791461 -0.055353  0.066084 -0.139097   \n",
       "3      0 -0.054952 -0.287924  0.237609  0.062723  0.178228 -0.221929   \n",
       "4      0  0.753074 -1.119670  0.592941  0.219422  0.538196  0.502292   \n",
       "\n",
       "        V28        V5       V17       V25       V20       V16       V13  \\\n",
       "0 -0.021053 -0.338321  0.207971  0.128539  0.251412 -0.470401 -0.991390   \n",
       "1  0.014724  0.060018 -0.114805  0.167170 -0.069083  0.463917  0.489095   \n",
       "2 -0.059752 -0.503198  1.109969 -0.327642  0.524980 -2.890083  0.717293   \n",
       "3  0.061458 -0.010309 -0.684093  0.647376 -0.208038 -1.059647  0.507757   \n",
       "4  0.215153 -0.407193 -0.237033 -0.206010  0.408542 -0.451449  1.345852   \n",
       "\n",
       "        V24       V21       V18  hour       V23  \n",
       "0  0.066928 -0.018307  0.025791   0.0 -0.110474  \n",
       "1 -0.339846 -0.225775 -0.183361   0.0  0.101288  \n",
       "2 -0.689281  0.247998 -0.121359   1.0  0.909412  \n",
       "3 -1.175575 -0.108300  1.965775   1.0 -0.190321  \n",
       "4  0.141267 -0.009431 -0.038195   1.0 -0.137458  "
      ]
     },
     "execution_count": 53,
     "metadata": {},
     "output_type": "execute_result"
    }
   ],
   "source": [
    "df3=  df[['Class','V10', 'V14', 'V7', 'V27', 'V12', 'V26', 'V28', 'V5', 'V17', 'V25', 'V20', 'V16', 'V13', 'V24', 'V21', 'V18', 'hour', 'V23']]\n",
    "df3.head()"
   ]
  },
  {
   "cell_type": "code",
   "execution_count": 54,
   "id": "3366ad54",
   "metadata": {},
   "outputs": [
    {
     "name": "stdout",
     "output_type": "stream",
     "text": [
      "Random over-sampling:\n",
      "0    284315\n",
      "1    284315\n",
      "Name: Class, dtype: int64\n"
     ]
    },
    {
     "data": {
      "image/png": "[encoded data removed]",
      "text/plain": [
       "<Figure size 432x288 with 1 Axes>"
      ]
     },
     "metadata": {
      "needs_background": "light"
     },
     "output_type": "display_data"
    }
   ],
   "source": [
    "df3_class_1_over = df_class_1.sample(count_class_0, replace=True)\n",
    "df3_test_over = pd.concat([df_class_0, df3_class_1_over], axis=0)\n",
    "\n",
    "print('Random over-sampling:')\n",
    "print(df3_test_over.Class.value_counts())\n",
    "\n",
    "df3_test_over.Class.value_counts().plot(kind='bar', title='Count (Class)');\n"
   ]
  },
  {
   "cell_type": "code",
   "execution_count": 55,
   "id": "b2d67602",
   "metadata": {},
   "outputs": [],
   "source": [
    "X = df3_test_over.drop('Class',axis='columns')\n",
    "y = df3_test_over['Class']\n",
    "\n",
    "from sklearn.model_selection import train_test_split\n",
    "X_train, X_test, y_train, y_test = train_test_split(X, y, test_size=0.2, random_state=15, stratify=y)"
   ]
  },
  {
   "cell_type": "code",
   "execution_count": 56,
   "id": "5fc6a995",
   "metadata": {},
   "outputs": [],
   "source": [
    "lr_model = LogisticRegression(class_weight='balanced')\n",
    "lr_model.fit(X_train,y_train)\n",
    "y_pred = lr_model.predict(X_test)\n",
    "cnf_matrix = confusion_matrix(y_test, y_pred)"
   ]
  },
  {
   "cell_type": "code",
   "execution_count": 57,
   "id": "0379bf53",
   "metadata": {},
   "outputs": [
    {
     "name": "stdout",
     "output_type": "stream",
     "text": [
      "accuracy: 0.949159\n",
      "Precision: 0.977\n",
      "Recall: 0.920036\n",
      "F-Measure: 0.947633\n"
     ]
    }
   ],
   "source": [
    "accuracy=accuracy_score(y_test, y_pred)\n",
    "print('accuracy: %.6f' % accuracy)\n",
    "precision = precision_score(y_test, y_pred, labels=[1,2], average='micro')\n",
    "print('Precision: %.3f' % precision)\n",
    "recall = recall_score(y_test, y_pred, average='binary')\n",
    "print('Recall: %.6f' % recall)\n",
    "score = f1_score(y_test, y_pred, average='binary')\n",
    "print('F-Measure: %.6f' % score)"
   ]
  },
  {
   "cell_type": "code",
   "execution_count": 58,
   "id": "f25cd1a9",
   "metadata": {},
   "outputs": [
    {
     "data": {
      "image/png": "[encoded data removed]",
      "text/plain": [
       "<Figure size 432x288 with 1 Axes>"
      ]
     },
     "metadata": {
      "needs_background": "light"
     },
     "output_type": "display_data"
    }
   ],
   "source": [
    "from sklearn.metrics import make_scorer, accuracy_score, roc_auc_score \n",
    "from sklearn.model_selection import GridSearchCV\n",
    "from sklearn.model_selection import train_test_split\n",
    "from sklearn import metrics\n",
    "from sklearn.metrics import roc_curve, roc_auc_score\n",
    "\n",
    "ROC = metrics.roc_auc_score(y_test,lr.predict_proba(X_test)[:,1])\n",
    "fpr, tpr, thresholds = metrics.roc_curve(y_test, lr.predict_proba(X_test)[:,1])\n",
    "\n",
    "plt.plot(fpr, tpr, label='Area under the curve = %0.5f)' % ROC,color=\"green\")\n",
    "plt.plot([0, 1], [0, 1],'r--')\n",
    "plt.xlim([0.0, 1.006])\n",
    "plt.ylim([0.0, 1.09])\n",
    "plt.xlabel('False Positive Rate')\n",
    "plt.ylabel('True Positive Rate')\n",
    "plt.title('Receiver operating characteristic')\n",
    "plt.legend(loc=\"lower right\")\n",
    "plt.show()"
   ]
  },
  {
   "cell_type": "code",
   "execution_count": 28,
   "id": "5a8c39ef",
   "metadata": {},
   "outputs": [],
   "source": [
    "from xgboost import XGBClassifier\n",
    "from xgboost import plot_importance"
   ]
  },
  {
   "cell_type": "code",
   "execution_count": 29,
   "id": "e646fe83",
   "metadata": {},
   "outputs": [
    {
     "name": "stdout",
     "output_type": "stream",
     "text": [
      "accuracy: 0.999\n",
      "Precision: 0.895\n",
      "Recall: 0.786\n",
      "F-Measure: 0.837\n"
     ]
    }
   ],
   "source": [
    "\n",
    "XGB_Model = XGBClassifier(objective = \"binary:logistic\", n_estimators = 10, seed = 123)\n",
    "XGB_Model.fit(X_train, y_train)\n",
    "y_pred = XGB_Model.predict(X_test)\n",
    "cnf_matrix = confusion_matrix(y_test, y_pred)\n",
    "accuracy=accuracy_score(y_test, y_pred)\n",
    "print('accuracy: %.3f' % accuracy)\n",
    "precision = precision_score(y_test, y_pred, labels=[1,2], average='micro')\n",
    "print('Precision: %.3f' % precision)\n",
    "recall = recall_score(y_test, y_pred, average='binary')\n",
    "print('Recall: %.3f' % recall)\n",
    "score = f1_score(y_test, y_pred, average='binary')\n",
    "print('F-Measure: %.3f' % score)"
   ]
  },
  {
   "cell_type": "code",
   "execution_count": 30,
   "id": "b555a7f4",
   "metadata": {},
   "outputs": [
    {
     "data": {
      "image/png": "[encoded data removed]",
      "text/plain": [
       "<Figure size 432x288 with 1 Axes>"
      ]
     },
     "metadata": {
      "needs_background": "light"
     },
     "output_type": "display_data"
    }
   ],
   "source": [
    "from sklearn.metrics import make_scorer, accuracy_score, roc_auc_score \n",
    "from sklearn.model_selection import GridSearchCV\n",
    "from sklearn.model_selection import train_test_split\n",
    "from sklearn import metrics\n",
    "from sklearn.metrics import roc_curve, roc_auc_score\n",
    "\n",
    "ROC = metrics.roc_auc_score(y_test,XGB_Model.predict_proba(X_test)[:,1])\n",
    "fpr, tpr, thresholds = metrics.roc_curve(y_test, XGB_Model.predict_proba(X_test)[:,1])\n",
    "\n",
    "plt.plot(fpr, tpr, label='Area under the curve = %0.5f)' % ROC,color=\"green\")\n",
    "plt.plot([0, 1], [0, 1],'r--')\n",
    "plt.xlim([0.0, 1.006])\n",
    "plt.ylim([0.0, 1.09])\n",
    "plt.xlabel('False Positive Rate')\n",
    "plt.ylabel('True Positive Rate')\n",
    "plt.title('Receiver operating characteristic')\n",
    "plt.legend(loc=\"lower right\")\n",
    "plt.show()"
   ]
  },
  {
   "cell_type": "code",
   "execution_count": null,
   "id": "4122082d",
   "metadata": {},
   "outputs": [],
   "source": []
  },
  {
   "cell_type": "code",
   "execution_count": null,
   "id": "1b0ef264",
   "metadata": {},
   "outputs": [],
   "source": []
  }
 ],
 "metadata": {
  "kernelspec": {
   "display_name": "Python 3 (ipykernel)",
   "language": "python",
   "name": "python3"
  },
  "language_info": {
   "codemirror_mode": {
    "name": "ipython",
    "version": 3
   },
   "file_extension": ".py",
   "mimetype": "text/x-python",
   "name": "python",
   "nbconvert_exporter": "python",
   "pygments_lexer": "ipython3",
   "version": "3.9.7"
  }
 },
 "nbformat": 4,
 "nbformat_minor": 5
}
